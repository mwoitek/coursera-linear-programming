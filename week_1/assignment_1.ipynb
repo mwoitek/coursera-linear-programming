{
 "cells": [
  {
   "cell_type": "markdown",
   "id": "942ba5a2",
   "metadata": {},
   "source": [
    "# Week 1: Programming Assignment\n",
    "## Imports"
   ]
  },
  {
   "cell_type": "code",
   "execution_count": 1,
   "id": "cf160cb6",
   "metadata": {
    "execution": {
     "iopub.execute_input": "2024-06-11T22:25:19.326427Z",
     "iopub.status.busy": "2024-06-11T22:25:19.324970Z",
     "iopub.status.idle": "2024-06-11T22:25:19.356319Z",
     "shell.execute_reply": "2024-06-11T22:25:19.355224Z"
    }
   },
   "outputs": [],
   "source": [
    "# It's moronic to do this, but I want to avoid problems with the autograder\n",
    "from pulp import *  # pyright: ignore [reportWildcardImportFromLibrary]"
   ]
  },
  {
   "cell_type": "markdown",
   "id": "38986dd3",
   "metadata": {
    "lines_to_next_cell": 2
   },
   "source": [
    "## Problem 1: Use PuLP to encode a linear programming problem"
   ]
  },
  {
   "cell_type": "code",
   "execution_count": 2,
   "id": "ba411e3b",
   "metadata": {
    "execution": {
     "iopub.execute_input": "2024-06-11T22:25:19.360200Z",
     "iopub.status.busy": "2024-06-11T22:25:19.359883Z",
     "iopub.status.idle": "2024-06-11T22:25:19.368478Z",
     "shell.execute_reply": "2024-06-11T22:25:19.367394Z"
    }
   },
   "outputs": [],
   "source": [
    "def formulate_lp_problem(m, n, list_c, list_a, list_b):\n",
    "    # Assert that the data is compatible\n",
    "    assert m > 0\n",
    "    assert n > 0\n",
    "    assert len(list_c) == n\n",
    "    assert len(list_a) == m\n",
    "    assert len(list_a) == len(list_b)\n",
    "    assert all(len(lst) == n for lst in list_a)\n",
    "\n",
    "    # Create a linear programming model and set it to maximize its objective\n",
    "    lp_model = LpProblem(\"LPProblem\", LpMaximize)\n",
    "\n",
    "    # Create all the decision variables and store them in a list\n",
    "    decision_vars = [LpVariable(f\"x{i}\") for i in range(n)]\n",
    "\n",
    "    # Create the objective function\n",
    "    lp_model += lpSum([c * v for c, v in zip(list_c, decision_vars)])\n",
    "\n",
    "    # Create all the constraints\n",
    "    for coeffs, rhs in zip(list_a, list_b):\n",
    "        lp_model += lpSum([c * v for c, v in zip(coeffs, decision_vars)]) <= rhs\n",
    "\n",
    "    # Solve the problem and get its status\n",
    "    lp_model.solve()\n",
    "    status = LpStatus[lp_model.status]\n",
    "\n",
    "    # Return the expected tuple\n",
    "    is_feasible = False\n",
    "    is_bounded = False\n",
    "    opt_sol = []\n",
    "\n",
    "    if status == \"Optimal\":\n",
    "        is_feasible = True\n",
    "        is_bounded = True\n",
    "        opt_sol = [value(decision_vars[i]) for i in range(n)]\n",
    "    elif status == \"Unbounded\":\n",
    "        is_feasible = True\n",
    "\n",
    "    return is_feasible, is_bounded, opt_sol"
   ]
  },
  {
   "cell_type": "code",
   "execution_count": 3,
   "id": "ab3f5033",
   "metadata": {
    "execution": {
     "iopub.execute_input": "2024-06-11T22:25:19.372604Z",
     "iopub.status.busy": "2024-06-11T22:25:19.372122Z",
     "iopub.status.idle": "2024-06-11T22:25:19.391978Z",
     "shell.execute_reply": "2024-06-11T22:25:19.390919Z"
    }
   },
   "outputs": [
    {
     "name": "stdout",
     "output_type": "stream",
     "text": [
      "Welcome to the CBC MILP Solver \n",
      "Version: 2.10.3 \n",
      "Build Date: Dec 15 2019 \n",
      "\n",
      "command line - /home/woitek/.local/share/virtualenvs/coursera_linear_programming-sQGDHXUS/lib/python3.12/site-packages/pulp/solverdir/cbc/linux/64/cbc /tmp/26b7696e47774d6fb54a00d7f8c516d2-pulp.mps -max -timeMode elapsed -branch -printingOptions all -solution /tmp/26b7696e47774d6fb54a00d7f8c516d2-pulp.sol (default strategy 1)\n",
      "At line 2 NAME          MODEL\n",
      "At line 3 ROWS\n",
      "At line 9 COLUMNS\n",
      "At line 19 RHS\n",
      "At line 24 BOUNDS\n",
      "At line 28 ENDATA\n",
      "Problem MODEL has 4 rows, 3 columns and 6 elements\n",
      "Coin0008I MODEL read with 0 errors\n",
      "Option for timeMode changed from cpu to elapsed\n",
      "Presolve 0 (-4) rows, 0 (-3) columns and 0 (-6) elements\n",
      "Empty problem - 0 rows, 0 columns and 0 elements\n",
      "Optimal - objective value 7\n",
      "After Postsolve, objective 7, infeasibilities - dual 0 (0), primal 0 (0)\n",
      "Optimal objective 7 - 0 iterations time 0.002, Presolve 0.00\n",
      "Option for printingOptions changed from normal to all\n",
      "Total time (CPU seconds):       0.00   (Wallclock seconds):       0.00\n",
      "\n",
      "[2.0, 9.0, -4.0]\n",
      "Passed: 3 points!\n"
     ]
    }
   ],
   "source": [
    "# Test 1\n",
    "m = 4\n",
    "n = 3\n",
    "list_c = [1, 1, 1]\n",
    "list_a = [[2, 1, 2], [1, 0, 0], [0, 1, 0], [0, 0, -1]]\n",
    "list_b = [5, 7, 9, 4]\n",
    "is_feas, is_bnded, sols = formulate_lp_problem(m, n, list_c, list_a, list_b)\n",
    "assert is_feas, \"The LP should be feasible -- your code returns infeasible\"\n",
    "assert is_bnded, \"The LP should be bounded -- your code returns unbounded\"\n",
    "print(sols)\n",
    "assert sols[0] is not None\n",
    "assert sols[1] is not None\n",
    "assert sols[2] is not None\n",
    "assert abs(sols[0] - 2.0) <= 1e-04, \"x0 must be 2.0\"\n",
    "assert abs(sols[1] - 9.0) <= 1e-04, \"x1 must be 9.0\"\n",
    "assert abs(sols[2] + 4.0) <= 1e-04, \"x2 must be -4.0\"\n",
    "print(\"Passed: 3 points!\")"
   ]
  },
  {
   "cell_type": "code",
   "execution_count": 4,
   "id": "526de89f",
   "metadata": {
    "execution": {
     "iopub.execute_input": "2024-06-11T22:25:19.395929Z",
     "iopub.status.busy": "2024-06-11T22:25:19.395442Z",
     "iopub.status.idle": "2024-06-11T22:25:19.410577Z",
     "shell.execute_reply": "2024-06-11T22:25:19.409393Z"
    }
   },
   "outputs": [
    {
     "name": "stdout",
     "output_type": "stream",
     "text": [
      "Welcome to the CBC MILP Solver \n",
      "Version: 2.10.3 \n",
      "Build Date: Dec 15 2019 \n",
      "\n",
      "command line - /home/woitek/.local/share/virtualenvs/coursera_linear_programming-sQGDHXUS/lib/python3.12/site-packages/pulp/solverdir/cbc/linux/64/cbc /tmp/724b8fced1f640b7b013b43f234bb9d1-pulp.mps -max -timeMode elapsed -branch -printingOptions all -solution /tmp/724b8fced1f640b7b013b43f234bb9d1-pulp.sol (default strategy 1)\n",
      "At line 2 NAME          MODEL\n",
      "At line 3 ROWS\n",
      "At line 10 COLUMNS\n",
      "At line 31 RHS\n",
      "At line 37 BOUNDS\n",
      "At line 42 ENDATA\n",
      "Problem MODEL has 5 rows, 4 columns and 16 elements\n",
      "Coin0008I MODEL read with 0 errors\n",
      "Option for timeMode changed from cpu to elapsed\n",
      "Presolve thinks problem is unbounded\n",
      "Analysis indicates model infeasible or unbounded\n",
      "0  Obj -0 Dual inf 0.0499996 (4) w.o. free dual inf (0)\n",
      "0  Obj -0 Dual inf 0.0499996 (4) w.o. free dual inf (0)\n",
      "1  Obj 10 Dual inf 0.0499997 (3) w.o. free dual inf (0)\n",
      "1  Obj 10 Dual inf 0.0499997 (3) w.o. free dual inf (0)\n",
      "Dual infeasible - objective value 10\n",
      "DualInfeasible objective 10 - 1 iterations time 0.002\n",
      "\n",
      "Result - Linear relaxation unbounded\n",
      "\n",
      "Enumerated nodes:           0\n",
      "Total iterations:           0\n",
      "Time (CPU seconds):         0.00\n",
      "Time (Wallclock Seconds):   0.00\n",
      "\n",
      "Option for printingOptions changed from normal to all\n",
      "Total time (CPU seconds):       0.00   (Wallclock seconds):       0.00\n",
      "\n",
      "Passed: 3 points\n"
     ]
    }
   ],
   "source": [
    "# Test 2: Unbounded problem\n",
    "m = 5\n",
    "n = 4\n",
    "list_c = [-1, 2, 1, 1]\n",
    "list_a = [[1, 0, -1, 2], [2, -1, 0, 1], [1, 1, 1, 1], [1, -1, 1, 1], [0, -1, 0, 1]]\n",
    "list_b = [3, 4, 5, 2.5, 3]\n",
    "is_feas, is_bnded, sols = formulate_lp_problem(m, n, list_c, list_a, list_b)\n",
    "assert is_feas, \"The LP should be feasible. But your code returns a status of infeasible.\"\n",
    "assert not is_bnded, \"The LP should be unbounded but your code returns a status of bounded.\"\n",
    "print(\"Passed: 3 points\")"
   ]
  },
  {
   "cell_type": "code",
   "execution_count": 5,
   "id": "ac23add8",
   "metadata": {
    "execution": {
     "iopub.execute_input": "2024-06-11T22:25:19.416793Z",
     "iopub.status.busy": "2024-06-11T22:25:19.416013Z",
     "iopub.status.idle": "2024-06-11T22:25:19.430942Z",
     "shell.execute_reply": "2024-06-11T22:25:19.429598Z"
    }
   },
   "outputs": [
    {
     "name": "stdout",
     "output_type": "stream",
     "text": [
      "Welcome to the CBC MILP Solver \n",
      "Version: 2.10.3 \n",
      "Build Date: Dec 15 2019 \n",
      "\n",
      "command line - /home/woitek/.local/share/virtualenvs/coursera_linear_programming-sQGDHXUS/lib/python3.12/site-packages/pulp/solverdir/cbc/linux/64/cbc /tmp/ed0d7fd7485949779d079de633113cd0-pulp.mps -max -timeMode elapsed -branch -printingOptions all -solution /tmp/ed0d7fd7485949779d079de633113cd0-pulp.sol (default strategy 1)\n",
      "At line 2 NAME          MODEL\n",
      "At line 3 ROWS\n",
      "At line 9 COLUMNS\n",
      "At line 19 RHS\n",
      "At line 24 BOUNDS\n",
      "At line 28 ENDATA\n",
      "Problem MODEL has 4 rows, 3 columns and 6 elements\n",
      "Coin0008I MODEL read with 0 errors\n",
      "Option for timeMode changed from cpu to elapsed\n",
      "Presolve determined that the problem was infeasible with tolerance of 1e-08\n",
      "Analysis indicates model infeasible or unbounded\n",
      "0  Obj -0 Primal inf 7.9999999 (1) Dual inf 0.0299997 (3) w.o. free dual inf (0)\n",
      "3  Obj 4.5 Primal inf 1.4999999 (1) Dual inf 0.4999999 (1)\n",
      "4  Obj 3 Primal inf 2.9999999 (1)\n",
      "Primal infeasible - objective value 3\n",
      "PrimalInfeasible objective 3 - 4 iterations time 0.002\n",
      "\n",
      "Result - Linear relaxation infeasible\n",
      "\n",
      "Enumerated nodes:           0\n",
      "Total iterations:           0\n",
      "Time (CPU seconds):         0.00\n",
      "Time (Wallclock Seconds):   0.00\n",
      "\n",
      "Option for printingOptions changed from normal to all\n",
      "Total time (CPU seconds):       0.00   (Wallclock seconds):       0.00\n",
      "\n",
      "Passed: 3 points!\n"
     ]
    }
   ],
   "source": [
    "# Test 3: Infeasible problem\n",
    "m = 4\n",
    "n = 3\n",
    "list_c = [1, 1, 1]\n",
    "list_a = [[-2, -1, -2], [1, 0, 0], [0, 1, 0], [0, 0, 1]]\n",
    "list_b = [-8, 1, 1, 1]\n",
    "is_feas, is_bnded, sols = formulate_lp_problem(m, n, list_c, list_a, list_b)\n",
    "assert not is_feas, \"The LP should be infeasible -- your code returns feasible\"\n",
    "print(\"Passed: 3 points!\")"
   ]
  },
  {
   "cell_type": "code",
   "execution_count": 6,
   "id": "8ede1e64",
   "metadata": {
    "execution": {
     "iopub.execute_input": "2024-06-11T22:25:19.435403Z",
     "iopub.status.busy": "2024-06-11T22:25:19.434971Z",
     "iopub.status.idle": "2024-06-11T22:25:19.454337Z",
     "shell.execute_reply": "2024-06-11T22:25:19.453262Z"
    }
   },
   "outputs": [
    {
     "name": "stdout",
     "output_type": "stream",
     "text": [
      "Welcome to the CBC MILP Solver \n",
      "Version: 2.10.3 \n",
      "Build Date: Dec 15 2019 \n",
      "\n",
      "command line - /home/woitek/.local/share/virtualenvs/coursera_linear_programming-sQGDHXUS/lib/python3.12/site-packages/pulp/solverdir/cbc/linux/64/cbc /tmp/3f6b485cda0047cc81bc7637f32eff51-pulp.mps -max -timeMode elapsed -branch -printingOptions all -solution /tmp/3f6b485cda0047cc81bc7637f32eff51-pulp.sol (default strategy 1)\n",
      "At line 2 NAME          MODEL\n",
      "At line 3 ROWS\n",
      "At line 21 COLUMNS\n",
      "At line 67 RHS\n",
      "At line 84 BOUNDS\n",
      "At line 100 ENDATA\n",
      "Problem MODEL has 16 rows, 15 columns and 30 elements\n",
      "Coin0008I MODEL read with 0 errors\n",
      "Option for timeMode changed from cpu to elapsed\n",
      "Presolve 0 (-16) rows, 0 (-15) columns and 0 (-30) elements\n",
      "Empty problem - 0 rows, 0 columns and 0 elements\n",
      "Optimal - objective value 2\n",
      "After Postsolve, objective 2, infeasibilities - dual 0 (0), primal 0 (0)\n",
      "Optimal objective 2 - 0 iterations time 0.002, Presolve 0.00\n",
      "Option for printingOptions changed from normal to all\n",
      "Total time (CPU seconds):       0.00   (Wallclock seconds):       0.00\n",
      "\n",
      "[-0.0, -0.0, -0.0, -0.0, -0.0, -0.0, 1.0, -0.0, -0.0, -0.0, -0.0, -0.0, -0.0, -0.0, -0.0]\n",
      "Passed: 3 points!\n"
     ]
    }
   ],
   "source": [
    "# Test 4\n",
    "m = 16\n",
    "n = 15\n",
    "list_c = [1] * n\n",
    "list_c[6] = list_c[6] + 1\n",
    "list_a = []\n",
    "list_b = []\n",
    "for i in range(n):\n",
    "    lst = [0] * n\n",
    "    lst[i] = -1\n",
    "    list_a.append(lst)\n",
    "    list_b.append(0)\n",
    "list_a.append([1] * n)\n",
    "list_b.append(1)\n",
    "is_feas, is_bnded, sols = formulate_lp_problem(m, n, list_c, list_a, list_b)\n",
    "assert is_feas, \"Problem is feasible but your code returned infeasible\"\n",
    "assert is_bnded, \"Problem is bounded but your code returned unbounded\"\n",
    "print(sols)\n",
    "assert sols[6] is not None\n",
    "assert abs(sols[6] - 1.0) <= 1e-03, \"Solution does not match expected one\"\n",
    "assert all(abs(sols[i]) <= 1e-03 for i in range(n) if i != 6), \"Solution does not match expected one\"  # pyright: ignore [reportArgumentType]\n",
    "print(\"Passed: 3 points!\")"
   ]
  },
  {
   "cell_type": "markdown",
   "id": "6df475c2",
   "metadata": {},
   "source": [
    "## Problem 2: LP formulation for an investment problem\n",
    "\n",
    "Write down the expression for the objective function in terms of\n",
    "$x_1, \\ldots, x_6$. Also specify if we are to maximize or minimize it.\n",
    "\\begin{equation}\n",
    "\\max \\qquad 25 x_1 + 20 x_2 + 3 x_3 + 1.5 x_4 + 3 x_5 + 4.5 x_6\n",
    "\\end{equation}\n",
    "\n",
    "Write down the constraint that expresses that the total cost of investment\n",
    "must be less than $B = 10,000$.\n",
    "\\begin{equation}\n",
    "129 x_1 + 286 x_2 + 72.29 x_3 + 38 x_4 + 52 x_5 + 148 x_6 \\leq 10,000\n",
    "\\end{equation}\n",
    "\n",
    "Write down the constraints that the total investment in each category cannot\n",
    "exceed 2/3 of the budget. You should write down three constraints, one for\n",
    "each category.\n",
    "\\begin{eqnarray}\n",
    "  387 x_1 + 858 x_2 &\\leq& 20,000 \\\\\n",
    "  216.87 x_3 + 114 x_4 &\\leq& 20,000 \\\\\n",
    "  156 x_5 + 444 x_6 &\\leq& 20,000\n",
    "\\end{eqnarray}\n",
    "\n",
    "Write down the constraints that the total investment in each category must\n",
    "exceed 1/6 of the budget. You should write down three constraints, one for\n",
    "each category.\n",
    "\\begin{eqnarray}\n",
    "  774 x_1 + 1,716 x_2 &\\geq& 10,000 \\\\\n",
    "  433.74 x_3 + 228 x_4 &\\geq& 10,000 \\\\\n",
    "  312 x_5 + 888 x_6 &\\geq& 10,000\n",
    "\\end{eqnarray}\n",
    "\n",
    "Write down an expression for the price of the overall portfolio. Also write\n",
    "down an expression for the overall earnings of the portfolio.\n",
    "\\begin{eqnarray}\n",
    "  \\mathrm{Price} &=& 129 x_1 + 286 x_2 + 72.29 x_3 + 38 x_4 + 52 x_5 + 148 x_6 \\\\\n",
    "  \\mathrm{Earnings} &=& 1.9 x_1 + 8.1 x_2 + 1.5 x_3 + 5 x_4 + 2.5 x_5 + 5.2 x_6\n",
    "\\end{eqnarray}\n",
    "\n",
    "We wish to enforce the constraint that the overall Price/Earnings ratio of\n",
    "the portfolio cannot exceed 15. Write down the constraint as\n",
    "$\\mathrm{Price} \\leq 15 \\times \\mathrm{Earnings}$.\n",
    "\\begin{equation}\n",
    "100.5 x_1 + 164.5 x_2 + 49.79 x_3 - 37 x_4 + 14.5 x_5 + 70 x_6 \\leq 0\n",
    "\\end{equation}"
   ]
  },
  {
   "cell_type": "code",
   "execution_count": 7,
   "id": "bb41a880",
   "metadata": {
    "execution": {
     "iopub.execute_input": "2024-06-11T22:25:19.459700Z",
     "iopub.status.busy": "2024-06-11T22:25:19.458945Z",
     "iopub.status.idle": "2024-06-11T22:25:19.477649Z",
     "shell.execute_reply": "2024-06-11T22:25:19.476517Z"
    }
   },
   "outputs": [
    {
     "name": "stdout",
     "output_type": "stream",
     "text": [
      "Welcome to the CBC MILP Solver \n",
      "Version: 2.10.3 \n",
      "Build Date: Dec 15 2019 \n",
      "\n",
      "command line - /home/woitek/.local/share/virtualenvs/coursera_linear_programming-sQGDHXUS/lib/python3.12/site-packages/pulp/solverdir/cbc/linux/64/cbc /tmp/6a2b8d8e341f49f8a23b82153d91c6ed-pulp.mps -max -timeMode elapsed -branch -printingOptions all -solution /tmp/6a2b8d8e341f49f8a23b82153d91c6ed-pulp.sol (default strategy 1)\n",
      "At line 2 NAME          MODEL\n",
      "At line 3 ROWS\n",
      "At line 13 COLUMNS\n",
      "At line 44 RHS\n",
      "At line 53 BOUNDS\n",
      "At line 54 ENDATA\n",
      "Problem MODEL has 8 rows, 6 columns and 24 elements\n",
      "Coin0008I MODEL read with 0 errors\n",
      "Option for timeMode changed from cpu to elapsed\n",
      "Presolve 8 (0) rows, 6 (0) columns and 24 (0) elements\n",
      "0  Obj -0 Primal inf 40.144053 (3) Dual inf 79.812412 (6)\n",
      "0  Obj -0 Primal inf 40.144053 (3) Dual inf 5.7382841e+10 (6)\n",
      "6  Obj 1098.5985\n",
      "Optimal - objective value 1098.5985\n",
      "Optimal objective 1098.59854 - 6 iterations time 0.002\n",
      "Option for printingOptions changed from normal to all\n",
      "Total time (CPU seconds):       0.00   (Wallclock seconds):       0.00\n",
      "\n",
      "x1 = 33.830665\n",
      "x2 = 0.0\n",
      "x3 = 0.0\n",
      "x4 = 104.45204\n",
      "x5 = 32.051282\n",
      "x6 = 0.0\n",
      "Objective value = 1098.598531\n"
     ]
    }
   ],
   "source": [
    "# Create a linear programming model and set it to maximize its objective\n",
    "lpModel = LpProblem(\"InvestmentProblem\", LpMaximize)\n",
    "\n",
    "# Create a variable called x1 and set its bounds to be between 0 and infinity\n",
    "x1 = LpVariable(\"x1\", 0)\n",
    "\n",
    "# Next create variables x2, ..., x6\n",
    "x2 = LpVariable(\"x2\", 0)\n",
    "x3 = LpVariable(\"x3\", 0)\n",
    "x4 = LpVariable(\"x4\", 0)\n",
    "x5 = LpVariable(\"x5\", 0)\n",
    "x6 = LpVariable(\"x6\", 0)\n",
    "\n",
    "# Set the objective function\n",
    "lpModel += 25 * x1 + 20 * x2 + 3 * x3 + 1.5 * x4 + 3 * x5 + 4.5 * x6\n",
    "\n",
    "# Add the constraints\n",
    "lpModel += 129 * x1 + 286 * x2 + 72.29 * x3 + 38 * x4 + 52 * x5 + 148 * x6 <= 10000\n",
    "lpModel += 387 * x1 + 858 * x2 <= 20000\n",
    "lpModel += 216.87 * x3 + 114 * x4 <= 20000\n",
    "lpModel += 156 * x5 + 444 * x6 <= 20000\n",
    "lpModel += 774 * x1 + 1716 * x2 >= 10000\n",
    "lpModel += 433.74 * x3 + 228 * x4 >= 10000\n",
    "lpModel += 312 * x5 + 888 * x6 >= 10000\n",
    "lpModel += 100.5 * x1 + 164.5 * x2 + 49.79 * x3 - 37 * x4 + 14.5 * x5 + 70 * x6 <= 0\n",
    "\n",
    "# Solve the model and print the solutions\n",
    "lpModel.solve()\n",
    "for v in lpModel.variables():\n",
    "    print(v.name, \"=\", v.varValue)\n",
    "\n",
    "# Optimized objective function\n",
    "print(\"Objective value =\", value(lpModel.objective))"
   ]
  },
  {
   "cell_type": "code",
   "execution_count": 8,
   "id": "e74cfa38",
   "metadata": {
    "execution": {
     "iopub.execute_input": "2024-06-11T22:25:19.483076Z",
     "iopub.status.busy": "2024-06-11T22:25:19.482145Z",
     "iopub.status.idle": "2024-06-11T22:25:19.487564Z",
     "shell.execute_reply": "2024-06-11T22:25:19.486595Z"
    }
   },
   "outputs": [],
   "source": [
    "assert abs(value(lpModel.objective) - 1098.59) <= 0.1, \"Test failed\""
   ]
  },
  {
   "cell_type": "markdown",
   "id": "9691ca8c",
   "metadata": {
    "lines_to_next_cell": 2
   },
   "source": [
    "## Problem 3: Optimal Transport\n",
    "\n",
    "Write down the objective function in terms of $x_{i,j}$ and $D_{i,j}$ for\n",
    "$1 \\leq i \\leq n$ and $1 \\leq j \\leq m$. Also indicate if we are going to\n",
    "maximize or minimize it.\n",
    "\\begin{equation}\n",
    "\\min \\qquad \\sum_{i=1}^{n} \\sum_{j=1}^{m} x_{i,j} D_{i,j}\n",
    "\\end{equation}\n",
    "\n",
    "Next, for each source location $i$, the total amount of material transported\n",
    "from $i$ to various destination locations must sum up to $w_i$: the total\n",
    "weight of material at location $i$. Write down a constraint to enforce this.\n",
    "\\begin{equation}\n",
    "\\sum_{j=1}^{m} x_{i,j} = w_i, \\qquad 1 \\leq i \\leq n\n",
    "\\end{equation}\n",
    "\n",
    "Next, for each destination location $j$, the total amount of material\n",
    "transported to $j$ from various source locations must sum up to $w_{j}^{\\prime}$:\n",
    "the total weight of material at destination location $j$. Write down a\n",
    "constraint to enforce this.\n",
    "\\begin{equation}\n",
    "\\sum_{i=1}^{n} x_{i,j} = w_{j}^{\\prime}, \\qquad 1 \\leq j \\leq m\n",
    "\\end{equation}"
   ]
  },
  {
   "cell_type": "code",
   "execution_count": 9,
   "id": "e2a12768",
   "metadata": {
    "execution": {
     "iopub.execute_input": "2024-06-11T22:25:19.492715Z",
     "iopub.status.busy": "2024-06-11T22:25:19.491897Z",
     "iopub.status.idle": "2024-06-11T22:25:19.502651Z",
     "shell.execute_reply": "2024-06-11T22:25:19.501577Z"
    }
   },
   "outputs": [],
   "source": [
    "def calculate_distance(a, b):\n",
    "    (xa, ya) = a\n",
    "    (xb, yb) = b\n",
    "    return ((xa - xb) ** 2 + (ya - yb) ** 2) ** (1 / 2)\n",
    "\n",
    "\n",
    "def get_objective(var_values, source_coords, dest_coords):\n",
    "    n = len(source_coords)\n",
    "    m = len(dest_coords)\n",
    "    return sum(\n",
    "        var_values[i][j] * calculate_distance(source_coords[i], dest_coords[j])\n",
    "        for i in range(n)\n",
    "        for j in range(m)\n",
    "    )\n",
    "\n",
    "\n",
    "def calculate_optimal_transport_plan(source_coords, source_weights, dest_coords, dest_weights):\n",
    "    n = len(source_coords)\n",
    "    assert n == len(source_weights)\n",
    "    m = len(dest_coords)\n",
    "    assert m == len(dest_weights)\n",
    "    assert sum(source_weights) == sum(dest_weights)\n",
    "\n",
    "    # Create the LP model\n",
    "    lp_model = LpProblem(\"OptimalTransport\", LpMinimize)\n",
    "\n",
    "    # Create a list of decision variables x_{i,j}\n",
    "    decision_vars = [[LpVariable(f\"x_{{{i},{j}}}\", lowBound=0) for j in range(m)] for i in range(n)]\n",
    "\n",
    "    # Add the objective function\n",
    "    lp_model += lpSum(\n",
    "        decision_vars[i][j] * calculate_distance(source_coords[i], dest_coords[j])\n",
    "        for i in range(n)\n",
    "        for j in range(m)\n",
    "    )\n",
    "\n",
    "    # Add the constraints\n",
    "    for i in range(n):\n",
    "        lp_model += lpSum(decision_vars[i][j] for j in range(m)) == source_weights[i]\n",
    "    for j in range(m):\n",
    "        lp_model += lpSum(decision_vars[i][j] for i in range(n)) == dest_weights[j]\n",
    "\n",
    "    # Solve and return the solution\n",
    "    lp_model.solve()\n",
    "    return [[value(decision_vars[i][j]) for j in range(m)] for i in range(n)]"
   ]
  },
  {
   "cell_type": "code",
   "execution_count": 10,
   "id": "ebfecaf9",
   "metadata": {
    "execution": {
     "iopub.execute_input": "2024-06-11T22:25:19.507056Z",
     "iopub.status.busy": "2024-06-11T22:25:19.506309Z",
     "iopub.status.idle": "2024-06-11T22:25:19.522752Z",
     "shell.execute_reply": "2024-06-11T22:25:19.521684Z"
    }
   },
   "outputs": [
    {
     "name": "stdout",
     "output_type": "stream",
     "text": [
      "Welcome to the CBC MILP Solver \n",
      "Version: 2.10.3 \n",
      "Build Date: Dec 15 2019 \n",
      "\n",
      "command line - /home/woitek/.local/share/virtualenvs/coursera_linear_programming-sQGDHXUS/lib/python3.12/site-packages/pulp/solverdir/cbc/linux/64/cbc /tmp/7f45830db18b4127a2287a77307edd84-pulp.mps -timeMode elapsed -branch -printingOptions all -solution /tmp/7f45830db18b4127a2287a77307edd84-pulp.sol (default strategy 1)\n",
      "At line 2 NAME          MODEL\n",
      "At line 3 ROWS\n",
      "At line 10 COLUMNS\n",
      "At line 29 RHS\n",
      "At line 35 BOUNDS\n",
      "At line 36 ENDATA\n",
      "Problem MODEL has 5 rows, 6 columns and 12 elements\n",
      "Coin0008I MODEL read with 0 errors\n",
      "Option for timeMode changed from cpu to elapsed\n",
      "Presolve 0 (-5) rows, 0 (-6) columns and 0 (-12) elements\n",
      "Empty problem - 0 rows, 0 columns and 0 elements\n",
      "Optimal - objective value 52.222806\n",
      "After Postsolve, objective 52.222806, infeasibilities - dual 0 (0), primal 0 (0)\n",
      "Optimal objective 52.22280608 - 0 iterations time 0.002, Presolve 0.00\n",
      "Option for printingOptions changed from normal to all\n",
      "Total time (CPU seconds):       0.00   (Wallclock seconds):       0.00\n",
      "\n",
      "Objective value: 52.22280607707767\n",
      "Test Passed: 10 points\n"
     ]
    }
   ],
   "source": [
    "source_coords = [(1, 5), (4, 1), (5, 5)]\n",
    "source_weights = [9, 4, 5]\n",
    "dest_coords = [(2, 2), (6, 6)]\n",
    "dest_weights = [9, 9]\n",
    "n = 3\n",
    "m = 2\n",
    "var_values = calculate_optimal_transport_plan(source_coords, source_weights, dest_coords, dest_weights)\n",
    "obj_val = get_objective(var_values, source_coords, dest_coords)\n",
    "print(f\"Objective value: {obj_val}\")\n",
    "\n",
    "# Check the solution\n",
    "for i in range(n):\n",
    "    assert sum(var_values[i][j] for j in range(m)) == source_weights[i]  # pyright: ignore\n",
    "for j in range(m):\n",
    "    assert sum(var_values[i][j] for i in range(n)) == dest_weights[j]  # pyright: ignore\n",
    "\n",
    "assert abs(obj_val - 52.22) <= 1e-01\n",
    "print(\"Test Passed: 10 points\")"
   ]
  },
  {
   "cell_type": "code",
   "execution_count": 11,
   "id": "7bb69556",
   "metadata": {
    "execution": {
     "iopub.execute_input": "2024-06-11T22:25:19.527587Z",
     "iopub.status.busy": "2024-06-11T22:25:19.527151Z",
     "iopub.status.idle": "2024-06-11T22:25:19.544153Z",
     "shell.execute_reply": "2024-06-11T22:25:19.543149Z"
    }
   },
   "outputs": [
    {
     "name": "stdout",
     "output_type": "stream",
     "text": [
      "Welcome to the CBC MILP Solver \n",
      "Version: 2.10.3 \n",
      "Build Date: Dec 15 2019 \n",
      "\n",
      "command line - /home/woitek/.local/share/virtualenvs/coursera_linear_programming-sQGDHXUS/lib/python3.12/site-packages/pulp/solverdir/cbc/linux/64/cbc /tmp/7be027743b1440dca0a64b1396a0631b-pulp.mps -timeMode elapsed -branch -printingOptions all -solution /tmp/7be027743b1440dca0a64b1396a0631b-pulp.sol (default strategy 1)\n",
      "At line 2 NAME          MODEL\n",
      "At line 3 ROWS\n",
      "At line 16 COLUMNS\n",
      "At line 107 RHS\n",
      "At line 119 BOUNDS\n",
      "At line 120 ENDATA\n",
      "Problem MODEL has 11 rows, 30 columns and 60 elements\n",
      "Coin0008I MODEL read with 0 errors\n",
      "Option for timeMode changed from cpu to elapsed\n",
      "Presolve 11 (0) rows, 30 (0) columns and 60 (0) elements\n",
      "Perturbing problem by 0.001% of 6.4031242 - largest nonzero change 3.2339459e-05 ( 0.0012172688%) - largest zero change 0\n",
      "0  Obj 0 Primal inf 120 (11)\n",
      "11  Obj 127.19128\n",
      "Optimal - objective value 127.19048\n",
      "Optimal objective 127.1904832 - 11 iterations time 0.002\n",
      "Option for printingOptions changed from normal to all\n",
      "Total time (CPU seconds):       0.00   (Wallclock seconds):       0.00\n",
      "\n",
      "Objective value: 127.19048316123448\n",
      "Test Passed: 8 points\n"
     ]
    }
   ],
   "source": [
    "source_coords = [(1, 1), (2, 2), (3, 3), (4, 4), (5, 5), (6, 6)]\n",
    "source_weights = [10, 10, 10, 10, 10, 10]\n",
    "dest_coords = [(6, 1), (5, 2), (4, 3), (3, 2), (2, 1)]\n",
    "dest_weights = [12, 12, 12, 12, 12]\n",
    "n = 6\n",
    "m = 5\n",
    "var_values = calculate_optimal_transport_plan(source_coords, source_weights, dest_coords, dest_weights)\n",
    "obj_val = get_objective(var_values, source_coords, dest_coords)\n",
    "print(f\"Objective value: {obj_val}\")\n",
    "\n",
    "# Check the solution\n",
    "for i in range(n):\n",
    "    assert sum(var_values[i][j] for j in range(m)) == source_weights[i]  # pyright: ignore\n",
    "for j in range(m):\n",
    "    assert sum(var_values[i][j] for i in range(n)) == dest_weights[j]  # pyright: ignore\n",
    "\n",
    "assert abs(obj_val - 127.19) <= 1e-1\n",
    "print(\"Test Passed: 8 points\")"
   ]
  },
  {
   "cell_type": "code",
   "execution_count": 12,
   "id": "d63dbd0b",
   "metadata": {
    "execution": {
     "iopub.execute_input": "2024-06-11T22:25:19.549717Z",
     "iopub.status.busy": "2024-06-11T22:25:19.549245Z",
     "iopub.status.idle": "2024-06-11T22:25:19.581759Z",
     "shell.execute_reply": "2024-06-11T22:25:19.580498Z"
    }
   },
   "outputs": [
    {
     "name": "stdout",
     "output_type": "stream",
     "text": [
      "Welcome to the CBC MILP Solver \n",
      "Version: 2.10.3 \n",
      "Build Date: Dec 15 2019 \n",
      "\n",
      "command line - /home/woitek/.local/share/virtualenvs/coursera_linear_programming-sQGDHXUS/lib/python3.12/site-packages/pulp/solverdir/cbc/linux/64/cbc /tmp/3c6ff88c11204077a24a85dbe7320e85-pulp.mps -timeMode elapsed -branch -printingOptions all -solution /tmp/3c6ff88c11204077a24a85dbe7320e85-pulp.sol (default strategy 1)\n",
      "At line 2 NAME          MODEL\n",
      "At line 3 ROWS\n",
      "At line 41 COLUMNS\n",
      "At line 1002 RHS\n",
      "At line 1039 BOUNDS\n",
      "At line 1040 ENDATA\n",
      "Problem MODEL has 36 rows, 320 columns and 640 elements\n",
      "Coin0008I MODEL read with 0 errors\n",
      "Option for timeMode changed from cpu to elapsed\n",
      "Presolve 36 (0) rows, 320 (0) columns and 640 (0) elements\n",
      "0  Obj 0 Primal inf 400 (36)\n",
      "31  Obj 1555.645 Primal inf 360 (20)\n",
      "67  Obj 1597.182 Primal inf 49.999999 (11)\n",
      "76  Obj 1598.1137\n",
      "Optimal - objective value 1598.1137\n",
      "Optimal objective 1598.113667 - 76 iterations time 0.002\n",
      "Option for printingOptions changed from normal to all\n",
      "Total time (CPU seconds):       0.00   (Wallclock seconds):       0.00\n",
      "\n",
      "Objective value: 1598.1136673805286\n",
      "Test Passed: 5 points\n"
     ]
    }
   ],
   "source": [
    "source_coords = [(i, 1) for i in range(20)]\n",
    "source_weights = [10] * 20\n",
    "dest_coords = [(6, i + 5) for i in range(8)] + [(14, i + 5) for i in range(8)]\n",
    "dest_weights = [12.5] * 16\n",
    "n = 20\n",
    "m = 16\n",
    "var_values = calculate_optimal_transport_plan(source_coords, source_weights, dest_coords, dest_weights)\n",
    "obj_val = get_objective(var_values, source_coords, dest_coords)\n",
    "print(f\"Objective value: {obj_val}\")\n",
    "\n",
    "# Check the solution\n",
    "for i in range(n):\n",
    "    assert sum(var_values[i][j] for j in range(m)) == source_weights[i]  # pyright: ignore\n",
    "for j in range(m):\n",
    "    assert sum(var_values[i][j] for i in range(n)) == dest_weights[j]  # pyright: ignore\n",
    "\n",
    "assert abs(obj_val - 1598.11) <= 1e-1\n",
    "print(\"Test Passed: 5 points\")"
   ]
  },
  {
   "cell_type": "markdown",
   "id": "351da047",
   "metadata": {
    "lines_to_next_cell": 2
   },
   "source": [
    "## Problem 3B: Optimal Pricing Model"
   ]
  },
  {
   "cell_type": "code",
   "execution_count": 13,
   "id": "74bce184",
   "metadata": {
    "execution": {
     "iopub.execute_input": "2024-06-11T22:25:19.586735Z",
     "iopub.status.busy": "2024-06-11T22:25:19.586275Z",
     "iopub.status.idle": "2024-06-11T22:25:19.594516Z",
     "shell.execute_reply": "2024-06-11T22:25:19.593449Z"
    }
   },
   "outputs": [],
   "source": [
    "def compute_optimal_prices(source_coords, source_weights, dest_coords, dest_weights):\n",
    "    n = len(source_coords)\n",
    "    assert n == len(source_weights)\n",
    "    m = len(dest_coords)\n",
    "    assert m == len(dest_weights)\n",
    "    assert sum(source_weights) == sum(dest_weights)\n",
    "\n",
    "    lp_model = LpProblem(\"Transportation\", LpMaximize)\n",
    "\n",
    "    # Decision variables\n",
    "    source_vars = [LpVariable(f\"SourcePrice_{i}\", lowBound=0) for i in range(n)]\n",
    "    dest_vars = [LpVariable(f\"DestinationPrice_{j}\", lowBound=0) for j in range(m)]\n",
    "\n",
    "    # Objective function\n",
    "    source_price = lpSum(source_vars[i] * source_weights[i] for i in range(n))\n",
    "    dest_price = lpSum(dest_vars[j] * dest_weights[j] for j in range(m))\n",
    "    lp_model += dest_price - source_price\n",
    "\n",
    "    # Constraints\n",
    "    for i in range(n):\n",
    "        for j in range(m):\n",
    "            lp_model += dest_vars[j] - source_vars[i] <= calculate_distance(source_coords[i], dest_coords[j])\n",
    "\n",
    "    lp_model.solve()\n",
    "    return [v.varValue for v in source_vars], [v.varValue for v in dest_vars]"
   ]
  },
  {
   "cell_type": "code",
   "execution_count": 14,
   "id": "034ccc6f",
   "metadata": {
    "execution": {
     "iopub.execute_input": "2024-06-11T22:25:19.598136Z",
     "iopub.status.busy": "2024-06-11T22:25:19.597817Z",
     "iopub.status.idle": "2024-06-11T22:25:19.612579Z",
     "shell.execute_reply": "2024-06-11T22:25:19.611139Z"
    }
   },
   "outputs": [
    {
     "name": "stdout",
     "output_type": "stream",
     "text": [
      "Welcome to the CBC MILP Solver \n",
      "Version: 2.10.3 \n",
      "Build Date: Dec 15 2019 \n",
      "\n",
      "command line - /home/woitek/.local/share/virtualenvs/coursera_linear_programming-sQGDHXUS/lib/python3.12/site-packages/pulp/solverdir/cbc/linux/64/cbc /tmp/742753bfbcd74f359766c06c2a372ddb-pulp.mps -max -timeMode elapsed -branch -printingOptions all -solution /tmp/742753bfbcd74f359766c06c2a372ddb-pulp.sol (default strategy 1)\n",
      "At line 2 NAME          MODEL\n",
      "At line 3 ROWS\n",
      "At line 11 COLUMNS\n",
      "At line 29 RHS\n",
      "At line 36 BOUNDS\n",
      "At line 37 ENDATA\n",
      "Problem MODEL has 6 rows, 5 columns and 12 elements\n",
      "Coin0008I MODEL read with 0 errors\n",
      "Option for timeMode changed from cpu to elapsed\n",
      "Presolve 6 (0) rows, 5 (0) columns and 12 (0) elements\n",
      "0  Obj -0 Dual inf 18 (2)\n",
      "0  Obj -0 Dual inf 18 (2)\n",
      "4  Obj 52.222806\n",
      "Optimal - objective value 52.222806\n",
      "Optimal objective 52.22280608 - 4 iterations time 0.002\n",
      "Option for printingOptions changed from normal to all\n",
      "Total time (CPU seconds):       0.00   (Wallclock seconds):       0.00\n",
      "\n",
      "Test Passed: 7 points\n"
     ]
    }
   ],
   "source": [
    "source_coords = [(1, 5), (4, 1), (5, 5)]\n",
    "source_weights = [9, 4, 5]\n",
    "dest_coords = [(2, 2), (6, 6)]\n",
    "dest_weights = [9, 9]\n",
    "n = 3\n",
    "m = 2\n",
    "source_prices, dest_prices = compute_optimal_prices(source_coords, source_weights, dest_coords, dest_weights)\n",
    "profit = sum(p * w for p, w in zip(dest_prices, dest_weights)) - sum(  # pyright: ignore\n",
    "    p * w  # pyright: ignore\n",
    "    for p, w in zip(source_prices, source_weights)\n",
    ")\n",
    "assert abs(profit - 52.22) <= 1e-01, f\"Error: Expected profit is 52.22 obtained: {profit}\"\n",
    "print(\"Test Passed: 7 points\")"
   ]
  },
  {
   "cell_type": "code",
   "execution_count": 15,
   "id": "556b16b0",
   "metadata": {
    "execution": {
     "iopub.execute_input": "2024-06-11T22:25:19.617871Z",
     "iopub.status.busy": "2024-06-11T22:25:19.617548Z",
     "iopub.status.idle": "2024-06-11T22:25:19.650684Z",
     "shell.execute_reply": "2024-06-11T22:25:19.648723Z"
    }
   },
   "outputs": [
    {
     "name": "stdout",
     "output_type": "stream",
     "text": [
      "Welcome to the CBC MILP Solver \n",
      "Version: 2.10.3 \n",
      "Build Date: Dec 15 2019 \n",
      "\n",
      "command line - /home/woitek/.local/share/virtualenvs/coursera_linear_programming-sQGDHXUS/lib/python3.12/site-packages/pulp/solverdir/cbc/linux/64/cbc /tmp/651d2744586240c98da61de341a56960-pulp.mps -max -timeMode elapsed -branch -printingOptions all -solution /tmp/651d2744586240c98da61de341a56960-pulp.sol (default strategy 1)\n",
      "At line 2 NAME          MODEL\n",
      "At line 3 ROWS\n",
      "At line 325 COLUMNS\n",
      "At line 1002 RHS\n",
      "At line 1323 BOUNDS\n",
      "At line 1324 ENDATA\n",
      "Problem MODEL has 320 rows, 36 columns and 640 elements\n",
      "Coin0008I MODEL read with 0 errors\n",
      "Option for timeMode changed from cpu to elapsed\n",
      "Presolve 320 (0) rows, 36 (0) columns and 640 (0) elements\n",
      "Perturbing problem by 0.001% of 12.5 - largest nonzero change 0.0001097971 ( 0.001097971%) - largest zero change 0\n",
      "0  Obj -0 Dual inf 199.99922 (16)\n",
      "0  Obj -0 Dual inf 200 (16)\n",
      "62  Obj 1591.7127 Dual inf 150 (15)\n",
      "81  Obj 1598.1137\n",
      "Optimal - objective value 1598.1137\n",
      "Optimal objective 1598.113667 - 81 iterations time 0.002\n",
      "Option for printingOptions changed from normal to all\n",
      "Total time (CPU seconds):       0.00   (Wallclock seconds):       0.00\n",
      "\n",
      "Test Passed: 8 points\n"
     ]
    }
   ],
   "source": [
    "source_coords = [(i, 1) for i in range(20)]\n",
    "source_weights = [10] * 20\n",
    "dest_coords = [(6, i + 5) for i in range(8)] + [(14, i + 5) for i in range(8)]\n",
    "dest_weights = [12.5] * 16\n",
    "n = 20\n",
    "m = 16\n",
    "source_prices, dest_prices = compute_optimal_prices(source_coords, source_weights, dest_coords, dest_weights)\n",
    "profit = sum(p * w for p, w in zip(dest_prices, dest_weights)) - sum(  # pyright: ignore\n",
    "    p * w  # pyright: ignore\n",
    "    for p, w in zip(source_prices, source_weights)\n",
    ")\n",
    "assert abs(profit - 1598.11) <= 1e-1, f\"Error: Expected profit is 1598.11 obtained: {profit}\"\n",
    "print(\"Test Passed: 8 points\")"
   ]
  }
 ],
 "metadata": {
  "jupytext": {
   "formats": "ipynb,py:percent"
  },
  "kernelspec": {
   "display_name": "Python 3 (ipykernel)",
   "language": "python",
   "name": "python3"
  },
  "language_info": {
   "codemirror_mode": {
    "name": "ipython",
    "version": 3
   },
   "file_extension": ".py",
   "mimetype": "text/x-python",
   "name": "python",
   "nbconvert_exporter": "python",
   "pygments_lexer": "ipython3",
   "version": "3.12.3"
  }
 },
 "nbformat": 4,
 "nbformat_minor": 5
}
