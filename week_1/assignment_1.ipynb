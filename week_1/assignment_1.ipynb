{
 "cells": [
  {
   "cell_type": "markdown",
   "id": "f9ff55db",
   "metadata": {},
   "source": [
    "# Week 1: Programming Assignment\n",
    "## Imports"
   ]
  },
  {
   "cell_type": "code",
   "execution_count": 1,
   "id": "722521b1",
   "metadata": {
    "execution": {
     "iopub.execute_input": "2024-06-10T22:34:22.164161Z",
     "iopub.status.busy": "2024-06-10T22:34:22.163062Z",
     "iopub.status.idle": "2024-06-10T22:34:22.210724Z",
     "shell.execute_reply": "2024-06-10T22:34:22.209690Z"
    }
   },
   "outputs": [],
   "source": [
    "import re\n",
    "\n",
    "import pulp as pl"
   ]
  },
  {
   "cell_type": "markdown",
   "id": "fdc1dfcc",
   "metadata": {
    "lines_to_next_cell": 2
   },
   "source": [
    "## Problem 1: Use PuLP to encode a linear programming problem"
   ]
  },
  {
   "cell_type": "code",
   "execution_count": 2,
   "id": "8923a6da",
   "metadata": {
    "execution": {
     "iopub.execute_input": "2024-06-10T22:34:22.216116Z",
     "iopub.status.busy": "2024-06-10T22:34:22.215738Z",
     "iopub.status.idle": "2024-06-10T22:34:22.225601Z",
     "shell.execute_reply": "2024-06-10T22:34:22.224583Z"
    }
   },
   "outputs": [],
   "source": [
    "# Define a key function to extract the numeric part of each variable name\n",
    "def extract_number(lp_var):\n",
    "    match_obj = re.search(r\"\\d+\", lp_var.name)\n",
    "    assert match_obj is not None\n",
    "    return int(match_obj.group())\n",
    "\n",
    "\n",
    "def formulate_lp_problem(m, n, list_c, list_a, list_b):\n",
    "    # Assert that the data is compatible\n",
    "    assert m > 0\n",
    "    assert n > 0\n",
    "    assert len(list_c) == n\n",
    "    assert len(list_a) == m\n",
    "    assert len(list_a) == len(list_b)\n",
    "    assert all(len(lst) == n for lst in list_a)\n",
    "\n",
    "    # Create a linear programming model and set it to maximize its objective\n",
    "    lp_model = pl.LpProblem(\"LPProblem\", pl.LpMaximize)\n",
    "\n",
    "    # Create all the decision variables and store them in a list\n",
    "    decision_vars = [pl.LpVariable(f\"x{i}\") for i in range(n)]\n",
    "\n",
    "    # Create the objective function\n",
    "    lp_model += pl.lpSum([c * v for c, v in zip(list_c, decision_vars)])\n",
    "\n",
    "    # Create all the constraints\n",
    "    for coeffs, rhs in zip(list_a, list_b):\n",
    "        lhs = pl.lpSum([c * v for c, v in zip(coeffs, decision_vars)])\n",
    "        lp_model += lhs <= rhs\n",
    "\n",
    "    # Solve the problem and get its status\n",
    "    lp_model.solve()\n",
    "    status = pl.LpStatus[lp_model.status]\n",
    "\n",
    "    # Return the expected tuple\n",
    "    is_feasible = False\n",
    "    is_bounded = False\n",
    "    opt_sol = []\n",
    "\n",
    "    if status == \"Optimal\":\n",
    "        is_feasible = True\n",
    "        is_bounded = True\n",
    "        # Get the model variables in the right order\n",
    "        lp_vars = sorted(lp_model.variables(), key=extract_number)\n",
    "        opt_sol = [lp_var.varValue for lp_var in lp_vars]\n",
    "    elif status == \"Unbounded\":\n",
    "        is_feasible = True\n",
    "\n",
    "    return is_feasible, is_bounded, opt_sol"
   ]
  },
  {
   "cell_type": "code",
   "execution_count": 3,
   "id": "e52e1cfc",
   "metadata": {
    "execution": {
     "iopub.execute_input": "2024-06-10T22:34:22.229493Z",
     "iopub.status.busy": "2024-06-10T22:34:22.229127Z",
     "iopub.status.idle": "2024-06-10T22:34:22.244279Z",
     "shell.execute_reply": "2024-06-10T22:34:22.243314Z"
    }
   },
   "outputs": [
    {
     "name": "stdout",
     "output_type": "stream",
     "text": [
      "Welcome to the CBC MILP Solver \n",
      "Version: 2.10.3 \n",
      "Build Date: Dec 15 2019 \n",
      "\n",
      "command line - /home/woitek/.local/share/virtualenvs/coursera_linear_programming-sQGDHXUS/lib/python3.12/site-packages/pulp/solverdir/cbc/linux/64/cbc /tmp/4b73ed8cf5f44927896ad8c2d4635e1c-pulp.mps -max -timeMode elapsed -branch -printingOptions all -solution /tmp/4b73ed8cf5f44927896ad8c2d4635e1c-pulp.sol (default strategy 1)\n",
      "At line 2 NAME          MODEL\n",
      "At line 3 ROWS\n",
      "At line 9 COLUMNS\n",
      "At line 19 RHS\n",
      "At line 24 BOUNDS\n",
      "At line 28 ENDATA\n",
      "Problem MODEL has 4 rows, 3 columns and 6 elements\n",
      "Coin0008I MODEL read with 0 errors\n",
      "Option for timeMode changed from cpu to elapsed\n",
      "Presolve 0 (-4) rows, 0 (-3) columns and 0 (-6) elements\n",
      "Empty problem - 0 rows, 0 columns and 0 elements\n",
      "Optimal - objective value 7\n",
      "After Postsolve, objective 7, infeasibilities - dual 0 (0), primal 0 (0)\n",
      "Optimal objective 7 - 0 iterations time 0.002, Presolve 0.00\n",
      "Option for printingOptions changed from normal to all\n",
      "Total time (CPU seconds):       0.00   (Wallclock seconds):       0.00\n",
      "\n",
      "[2.0, 9.0, -4.0]\n",
      "Passed: 3 points!\n"
     ]
    }
   ],
   "source": [
    "# Test 1\n",
    "m = 4\n",
    "n = 3\n",
    "list_c = [1, 1, 1]\n",
    "list_a = [[2, 1, 2], [1, 0, 0], [0, 1, 0], [0, 0, -1]]\n",
    "list_b = [5, 7, 9, 4]\n",
    "is_feas, is_bnded, sols = formulate_lp_problem(m, n, list_c, list_a, list_b)\n",
    "assert is_feas, \"The LP should be feasible -- your code returns infeasible\"\n",
    "assert is_bnded, \"The LP should be bounded -- your code returns unbounded\"\n",
    "print(sols)\n",
    "assert abs(sols[0] - 2.0) <= 1e-04, \"x0 must be 2.0\"\n",
    "assert abs(sols[1] - 9.0) <= 1e-04, \"x1 must be 9.0\"\n",
    "assert abs(sols[2] + 4.0) <= 1e-04, \"x2 must be -4.0\"\n",
    "print(\"Passed: 3 points!\")"
   ]
  },
  {
   "cell_type": "code",
   "execution_count": 4,
   "id": "51d839a9",
   "metadata": {
    "execution": {
     "iopub.execute_input": "2024-06-10T22:34:22.248236Z",
     "iopub.status.busy": "2024-06-10T22:34:22.247782Z",
     "iopub.status.idle": "2024-06-10T22:34:22.264316Z",
     "shell.execute_reply": "2024-06-10T22:34:22.263002Z"
    }
   },
   "outputs": [
    {
     "name": "stdout",
     "output_type": "stream",
     "text": [
      "Welcome to the CBC MILP Solver \n",
      "Version: 2.10.3 \n",
      "Build Date: Dec 15 2019 \n",
      "\n",
      "command line - /home/woitek/.local/share/virtualenvs/coursera_linear_programming-sQGDHXUS/lib/python3.12/site-packages/pulp/solverdir/cbc/linux/64/cbc /tmp/4bfbb5d0b389431b93e223da028387d7-pulp.mps -max -timeMode elapsed -branch -printingOptions all -solution /tmp/4bfbb5d0b389431b93e223da028387d7-pulp.sol (default strategy 1)\n",
      "At line 2 NAME          MODEL\n",
      "At line 3 ROWS\n",
      "At line 10 COLUMNS\n",
      "At line 31 RHS\n",
      "At line 37 BOUNDS\n",
      "At line 42 ENDATA\n",
      "Problem MODEL has 5 rows, 4 columns and 16 elements\n",
      "Coin0008I MODEL read with 0 errors\n",
      "Option for timeMode changed from cpu to elapsed\n",
      "Presolve thinks problem is unbounded\n",
      "Analysis indicates model infeasible or unbounded\n",
      "0  Obj -0 Dual inf 0.0499996 (4) w.o. free dual inf (0)\n",
      "0  Obj -0 Dual inf 0.0499996 (4) w.o. free dual inf (0)\n",
      "1  Obj 10 Dual inf 0.0499997 (3) w.o. free dual inf (0)\n",
      "1  Obj 10 Dual inf 0.0499997 (3) w.o. free dual inf (0)\n",
      "Dual infeasible - objective value 10\n",
      "DualInfeasible objective 10 - 1 iterations time 0.002\n",
      "\n",
      "Result - Linear relaxation unbounded\n",
      "\n",
      "Enumerated nodes:           0\n",
      "Total iterations:           0\n",
      "Time (CPU seconds):         0.00\n",
      "Time (Wallclock Seconds):   0.00\n",
      "\n",
      "Option for printingOptions changed from normal to all\n",
      "Total time (CPU seconds):       0.00   (Wallclock seconds):       0.00\n",
      "\n",
      "Passed: 3 points\n"
     ]
    }
   ],
   "source": [
    "# Test 2: Unbounded problem\n",
    "m = 5\n",
    "n = 4\n",
    "list_c = [-1, 2, 1, 1]\n",
    "list_a = [[1, 0, -1, 2], [2, -1, 0, 1], [1, 1, 1, 1], [1, -1, 1, 1], [0, -1, 0, 1]]\n",
    "list_b = [3, 4, 5, 2.5, 3]\n",
    "is_feas, is_bnded, sols = formulate_lp_problem(m, n, list_c, list_a, list_b)\n",
    "assert is_feas, \"The LP should be feasible. But your code returns a status of infeasible.\"\n",
    "assert not is_bnded, \"The LP should be unbounded but your code returns a status of bounded.\"\n",
    "print(\"Passed: 3 points\")"
   ]
  },
  {
   "cell_type": "code",
   "execution_count": 5,
   "id": "40b89b89",
   "metadata": {
    "execution": {
     "iopub.execute_input": "2024-06-10T22:34:22.271759Z",
     "iopub.status.busy": "2024-06-10T22:34:22.271436Z",
     "iopub.status.idle": "2024-06-10T22:34:22.285065Z",
     "shell.execute_reply": "2024-06-10T22:34:22.283894Z"
    }
   },
   "outputs": [
    {
     "name": "stdout",
     "output_type": "stream",
     "text": [
      "Welcome to the CBC MILP Solver \n",
      "Version: 2.10.3 \n",
      "Build Date: Dec 15 2019 \n",
      "\n",
      "command line - /home/woitek/.local/share/virtualenvs/coursera_linear_programming-sQGDHXUS/lib/python3.12/site-packages/pulp/solverdir/cbc/linux/64/cbc /tmp/ca28a63cf43c48c6ad75d10db43dc658-pulp.mps -max -timeMode elapsed -branch -printingOptions all -solution /tmp/ca28a63cf43c48c6ad75d10db43dc658-pulp.sol (default strategy 1)\n",
      "At line 2 NAME          MODEL\n",
      "At line 3 ROWS\n",
      "At line 9 COLUMNS\n",
      "At line 19 RHS\n",
      "At line 24 BOUNDS\n",
      "At line 28 ENDATA\n",
      "Problem MODEL has 4 rows, 3 columns and 6 elements\n",
      "Coin0008I MODEL read with 0 errors\n",
      "Option for timeMode changed from cpu to elapsed\n",
      "Presolve determined that the problem was infeasible with tolerance of 1e-08\n",
      "Analysis indicates model infeasible or unbounded\n",
      "0  Obj -0 Primal inf 7.9999999 (1) Dual inf 0.0299997 (3) w.o. free dual inf (0)\n",
      "3  Obj 4.5 Primal inf 1.4999999 (1) Dual inf 0.4999999 (1)\n",
      "4  Obj 3 Primal inf 2.9999999 (1)\n",
      "Primal infeasible - objective value 3\n",
      "PrimalInfeasible objective 3 - 4 iterations time 0.002\n",
      "\n",
      "Result - Linear relaxation infeasible\n",
      "\n",
      "Enumerated nodes:           0\n",
      "Total iterations:           0\n",
      "Time (CPU seconds):         0.00\n",
      "Time (Wallclock Seconds):   0.00\n",
      "\n",
      "Option for printingOptions changed from normal to all\n",
      "Total time (CPU seconds):       0.00   (Wallclock seconds):       0.00\n",
      "\n",
      "Passed: 3 points!\n"
     ]
    }
   ],
   "source": [
    "# Test 3: Infeasible problem\n",
    "m = 4\n",
    "n = 3\n",
    "list_c = [1, 1, 1]\n",
    "list_a = [[-2, -1, -2], [1, 0, 0], [0, 1, 0], [0, 0, 1]]\n",
    "list_b = [-8, 1, 1, 1]\n",
    "is_feas, is_bnded, sols = formulate_lp_problem(m, n, list_c, list_a, list_b)\n",
    "assert not is_feas, \"The LP should be infeasible -- your code returns feasible\"\n",
    "print(\"Passed: 3 points!\")"
   ]
  },
  {
   "cell_type": "code",
   "execution_count": 6,
   "id": "6053a8e2",
   "metadata": {
    "execution": {
     "iopub.execute_input": "2024-06-10T22:34:22.290874Z",
     "iopub.status.busy": "2024-06-10T22:34:22.290004Z",
     "iopub.status.idle": "2024-06-10T22:34:22.309788Z",
     "shell.execute_reply": "2024-06-10T22:34:22.308619Z"
    }
   },
   "outputs": [
    {
     "name": "stdout",
     "output_type": "stream",
     "text": [
      "Welcome to the CBC MILP Solver \n",
      "Version: 2.10.3 \n",
      "Build Date: Dec 15 2019 \n",
      "\n",
      "command line - /home/woitek/.local/share/virtualenvs/coursera_linear_programming-sQGDHXUS/lib/python3.12/site-packages/pulp/solverdir/cbc/linux/64/cbc /tmp/8e77d1e59ac545199ab1d535a6c59651-pulp.mps -max -timeMode elapsed -branch -printingOptions all -solution /tmp/8e77d1e59ac545199ab1d535a6c59651-pulp.sol (default strategy 1)\n",
      "At line 2 NAME          MODEL\n",
      "At line 3 ROWS\n",
      "At line 21 COLUMNS\n",
      "At line 67 RHS\n",
      "At line 84 BOUNDS\n",
      "At line 100 ENDATA\n",
      "Problem MODEL has 16 rows, 15 columns and 30 elements\n",
      "Coin0008I MODEL read with 0 errors\n",
      "Option for timeMode changed from cpu to elapsed\n",
      "Presolve 0 (-16) rows, 0 (-15) columns and 0 (-30) elements\n",
      "Empty problem - 0 rows, 0 columns and 0 elements\n",
      "Optimal - objective value 2\n",
      "After Postsolve, objective 2, infeasibilities - dual 0 (0), primal 0 (0)\n",
      "Optimal objective 2 - 0 iterations time 0.002, Presolve 0.00\n",
      "Option for printingOptions changed from normal to all\n",
      "Total time (CPU seconds):       0.00   (Wallclock seconds):       0.00\n",
      "\n",
      "[-0.0, -0.0, -0.0, -0.0, -0.0, -0.0, 1.0, -0.0, -0.0, -0.0, -0.0, -0.0, -0.0, -0.0, -0.0]\n",
      "Passed: 3 points!\n"
     ]
    }
   ],
   "source": [
    "# Test 4\n",
    "m = 16\n",
    "n = 15\n",
    "list_c = [1] * n\n",
    "list_c[6] = list_c[6] + 1\n",
    "list_a = []\n",
    "list_b = []\n",
    "for i in range(n):\n",
    "    lst = [0] * n\n",
    "    lst[i] = -1\n",
    "    list_a.append(lst)\n",
    "    list_b.append(0)\n",
    "list_a.append([1] * n)\n",
    "list_b.append(1)\n",
    "is_feas, is_bnded, sols = formulate_lp_problem(m, n, list_c, list_a, list_b)\n",
    "assert is_feas, \"Problem is feasible but your code returned infeasible\"\n",
    "assert is_bnded, \"Problem is bounded but your code returned unbounded\"\n",
    "print(sols)\n",
    "assert abs(sols[6] - 1.0) <= 1e-03, \"Solution does not match expected one\"\n",
    "assert all([abs(sols[i]) <= 1e-03 for i in range(n) if i != 6]), \"Solution does not match expected one\"\n",
    "print(\"Passed: 3 points!\")"
   ]
  }
 ],
 "metadata": {
  "jupytext": {
   "formats": "ipynb,py:percent"
  },
  "kernelspec": {
   "display_name": "Python 3 (ipykernel)",
   "language": "python",
   "name": "python3"
  },
  "language_info": {
   "codemirror_mode": {
    "name": "ipython",
    "version": 3
   },
   "file_extension": ".py",
   "mimetype": "text/x-python",
   "name": "python",
   "nbconvert_exporter": "python",
   "pygments_lexer": "ipython3",
   "version": "3.12.3"
  }
 },
 "nbformat": 4,
 "nbformat_minor": 5
}
