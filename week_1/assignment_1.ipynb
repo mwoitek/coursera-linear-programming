{
 "cells": [
  {
   "cell_type": "markdown",
   "id": "24b00144",
   "metadata": {},
   "source": [
    "# Week 1: Programming Assignment\n",
    "## Imports"
   ]
  },
  {
   "cell_type": "code",
   "execution_count": 1,
   "id": "95ed39ba",
   "metadata": {
    "execution": {
     "iopub.execute_input": "2024-06-11T16:50:59.414666Z",
     "iopub.status.busy": "2024-06-11T16:50:59.413758Z",
     "iopub.status.idle": "2024-06-11T16:50:59.691621Z",
     "shell.execute_reply": "2024-06-11T16:50:59.688411Z"
    }
   },
   "outputs": [],
   "source": [
    "import re\n",
    "\n",
    "# It's moronic to do this, but I want to avoid problems with the autograder\n",
    "from pulp import *  # pyright: ignore [reportWildcardImportFromLibrary]"
   ]
  },
  {
   "cell_type": "markdown",
   "id": "c657adbf",
   "metadata": {
    "lines_to_next_cell": 2
   },
   "source": [
    "## Problem 1: Use PuLP to encode a linear programming problem"
   ]
  },
  {
   "cell_type": "code",
   "execution_count": 2,
   "id": "f4edecb6",
   "metadata": {
    "execution": {
     "iopub.execute_input": "2024-06-11T16:50:59.700982Z",
     "iopub.status.busy": "2024-06-11T16:50:59.699740Z",
     "iopub.status.idle": "2024-06-11T16:50:59.711541Z",
     "shell.execute_reply": "2024-06-11T16:50:59.710533Z"
    }
   },
   "outputs": [],
   "source": [
    "# Define a key function to extract the numeric part of each variable name\n",
    "def extract_number(lp_var):\n",
    "    return int(re.search(r\"\\d+\", lp_var.name).group())  # pyright: ignore [reportOptionalMemberAccess]\n",
    "\n",
    "\n",
    "def formulate_lp_problem(m, n, list_c, list_a, list_b):\n",
    "    # Assert that the data is compatible\n",
    "    assert m > 0\n",
    "    assert n > 0\n",
    "    assert len(list_c) == n\n",
    "    assert len(list_a) == m\n",
    "    assert len(list_a) == len(list_b)\n",
    "    assert all(len(lst) == n for lst in list_a)\n",
    "\n",
    "    # Create a linear programming model and set it to maximize its objective\n",
    "    lp_model = LpProblem(\"LPProblem\", LpMaximize)\n",
    "\n",
    "    # Create all the decision variables and store them in a list\n",
    "    decision_vars = [LpVariable(f\"x{i}\") for i in range(n)]\n",
    "\n",
    "    # Create the objective function\n",
    "    lp_model += lpSum([c * v for c, v in zip(list_c, decision_vars)])\n",
    "\n",
    "    # Create all the constraints\n",
    "    for coeffs, rhs in zip(list_a, list_b):\n",
    "        lhs = lpSum([c * v for c, v in zip(coeffs, decision_vars)])\n",
    "        lp_model += lhs <= rhs\n",
    "\n",
    "    # Solve the problem and get its status\n",
    "    lp_model.solve()\n",
    "    status = LpStatus[lp_model.status]\n",
    "\n",
    "    # Return the expected tuple\n",
    "    is_feasible = False\n",
    "    is_bounded = False\n",
    "    opt_sol = []\n",
    "\n",
    "    if status == \"Optimal\":\n",
    "        is_feasible = True\n",
    "        is_bounded = True\n",
    "        # Get the model variables in the right order\n",
    "        lp_vars = sorted(lp_model.variables(), key=extract_number)\n",
    "        opt_sol = [lp_var.varValue for lp_var in lp_vars]\n",
    "    elif status == \"Unbounded\":\n",
    "        is_feasible = True\n",
    "\n",
    "    return is_feasible, is_bounded, opt_sol"
   ]
  },
  {
   "cell_type": "code",
   "execution_count": 3,
   "id": "ae4b0440",
   "metadata": {
    "execution": {
     "iopub.execute_input": "2024-06-11T16:50:59.716053Z",
     "iopub.status.busy": "2024-06-11T16:50:59.715747Z",
     "iopub.status.idle": "2024-06-11T16:50:59.960960Z",
     "shell.execute_reply": "2024-06-11T16:50:59.958545Z"
    }
   },
   "outputs": [
    {
     "name": "stdout",
     "output_type": "stream",
     "text": [
      "Welcome to the CBC MILP Solver \n",
      "Version: 2.10.3 \n",
      "Build Date: Dec 15 2019 \n",
      "\n",
      "command line - /home/woitek/.local/share/virtualenvs/coursera_linear_programming-sQGDHXUS/lib/python3.12/site-packages/pulp/solverdir/cbc/linux/64/cbc /tmp/86c39654b9cd400d8928c0576a47e197-pulp.mps -max -timeMode elapsed -branch -printingOptions all -solution /tmp/86c39654b9cd400d8928c0576a47e197-pulp.sol (default strategy 1)\n",
      "At line 2 NAME          MODEL\n",
      "At line 3 ROWS\n",
      "At line 9 COLUMNS\n",
      "At line 19 RHS\n",
      "At line 24 BOUNDS\n",
      "At line 28 ENDATA\n",
      "Problem MODEL has 4 rows, 3 columns and 6 elements\n",
      "Coin0008I MODEL read with 0 errors\n",
      "Option for timeMode changed from cpu to elapsed\n",
      "Presolve 0 (-4) rows, 0 (-3) columns and 0 (-6) elements\n",
      "Empty problem - 0 rows, 0 columns and 0 elements\n",
      "Optimal - objective value 7\n",
      "After Postsolve, objective 7, infeasibilities - dual 0 (0), primal 0 (0)\n",
      "Optimal objective 7 - 0 iterations time 0.002, Presolve 0.00\n",
      "Option for printingOptions changed from normal to all\n",
      "Total time (CPU seconds):       0.00   (Wallclock seconds):       0.01\n",
      "\n",
      "[2.0, 9.0, -4.0]\n",
      "Passed: 3 points!\n"
     ]
    }
   ],
   "source": [
    "# Test 1\n",
    "m = 4\n",
    "n = 3\n",
    "list_c = [1, 1, 1]\n",
    "list_a = [[2, 1, 2], [1, 0, 0], [0, 1, 0], [0, 0, -1]]\n",
    "list_b = [5, 7, 9, 4]\n",
    "is_feas, is_bnded, sols = formulate_lp_problem(m, n, list_c, list_a, list_b)\n",
    "assert is_feas, \"The LP should be feasible -- your code returns infeasible\"\n",
    "assert is_bnded, \"The LP should be bounded -- your code returns unbounded\"\n",
    "print(sols)\n",
    "assert abs(sols[0] - 2.0) <= 1e-04, \"x0 must be 2.0\"\n",
    "assert abs(sols[1] - 9.0) <= 1e-04, \"x1 must be 9.0\"\n",
    "assert abs(sols[2] + 4.0) <= 1e-04, \"x2 must be -4.0\"\n",
    "print(\"Passed: 3 points!\")"
   ]
  },
  {
   "cell_type": "code",
   "execution_count": 4,
   "id": "8841e2b9",
   "metadata": {
    "execution": {
     "iopub.execute_input": "2024-06-11T16:50:59.969434Z",
     "iopub.status.busy": "2024-06-11T16:50:59.968471Z",
     "iopub.status.idle": "2024-06-11T16:50:59.986458Z",
     "shell.execute_reply": "2024-06-11T16:50:59.985123Z"
    }
   },
   "outputs": [
    {
     "name": "stdout",
     "output_type": "stream",
     "text": [
      "Welcome to the CBC MILP Solver \n",
      "Version: 2.10.3 \n",
      "Build Date: Dec 15 2019 \n",
      "\n",
      "command line - /home/woitek/.local/share/virtualenvs/coursera_linear_programming-sQGDHXUS/lib/python3.12/site-packages/pulp/solverdir/cbc/linux/64/cbc /tmp/4e4de85497ab4fc9aa8288462d0f5246-pulp.mps -max -timeMode elapsed -branch -printingOptions all -solution /tmp/4e4de85497ab4fc9aa8288462d0f5246-pulp.sol (default strategy 1)\n",
      "At line 2 NAME          MODEL\n",
      "At line 3 ROWS\n",
      "At line 10 COLUMNS\n",
      "At line 31 RHS\n",
      "At line 37 BOUNDS\n",
      "At line 42 ENDATA\n",
      "Problem MODEL has 5 rows, 4 columns and 16 elements\n",
      "Coin0008I MODEL read with 0 errors\n",
      "Option for timeMode changed from cpu to elapsed\n",
      "Presolve thinks problem is unbounded\n",
      "Analysis indicates model infeasible or unbounded\n",
      "0  Obj -0 Dual inf 0.0499996 (4) w.o. free dual inf (0)\n",
      "0  Obj -0 Dual inf 0.0499996 (4) w.o. free dual inf (0)\n",
      "1  Obj 10 Dual inf 0.0499997 (3) w.o. free dual inf (0)\n",
      "1  Obj 10 Dual inf 0.0499997 (3) w.o. free dual inf (0)\n",
      "Dual infeasible - objective value 10\n",
      "DualInfeasible objective 10 - 1 iterations time 0.002\n",
      "\n",
      "Result - Linear relaxation unbounded\n",
      "\n",
      "Enumerated nodes:           0\n",
      "Total iterations:           0\n",
      "Time (CPU seconds):         0.00\n",
      "Time (Wallclock Seconds):   0.00\n",
      "\n",
      "Option for printingOptions changed from normal to all\n",
      "Total time (CPU seconds):       0.00   (Wallclock seconds):       0.00\n",
      "\n",
      "Passed: 3 points\n"
     ]
    }
   ],
   "source": [
    "# Test 2: Unbounded problem\n",
    "m = 5\n",
    "n = 4\n",
    "list_c = [-1, 2, 1, 1]\n",
    "list_a = [[1, 0, -1, 2], [2, -1, 0, 1], [1, 1, 1, 1], [1, -1, 1, 1], [0, -1, 0, 1]]\n",
    "list_b = [3, 4, 5, 2.5, 3]\n",
    "is_feas, is_bnded, sols = formulate_lp_problem(m, n, list_c, list_a, list_b)\n",
    "assert is_feas, \"The LP should be feasible. But your code returns a status of infeasible.\"\n",
    "assert not is_bnded, \"The LP should be unbounded but your code returns a status of bounded.\"\n",
    "print(\"Passed: 3 points\")"
   ]
  },
  {
   "cell_type": "code",
   "execution_count": 5,
   "id": "7f5b3cde",
   "metadata": {
    "execution": {
     "iopub.execute_input": "2024-06-11T16:50:59.992246Z",
     "iopub.status.busy": "2024-06-11T16:50:59.991890Z",
     "iopub.status.idle": "2024-06-11T16:51:00.006126Z",
     "shell.execute_reply": "2024-06-11T16:51:00.005014Z"
    }
   },
   "outputs": [
    {
     "name": "stdout",
     "output_type": "stream",
     "text": [
      "Welcome to the CBC MILP Solver \n",
      "Version: 2.10.3 \n",
      "Build Date: Dec 15 2019 \n",
      "\n",
      "command line - /home/woitek/.local/share/virtualenvs/coursera_linear_programming-sQGDHXUS/lib/python3.12/site-packages/pulp/solverdir/cbc/linux/64/cbc /tmp/4182fe3c28a14bb1b0a620bb121e2fff-pulp.mps -max -timeMode elapsed -branch -printingOptions all -solution /tmp/4182fe3c28a14bb1b0a620bb121e2fff-pulp.sol (default strategy 1)\n",
      "At line 2 NAME          MODEL\n",
      "At line 3 ROWS\n",
      "At line 9 COLUMNS\n",
      "At line 19 RHS\n",
      "At line 24 BOUNDS\n",
      "At line 28 ENDATA\n",
      "Problem MODEL has 4 rows, 3 columns and 6 elements\n",
      "Coin0008I MODEL read with 0 errors\n",
      "Option for timeMode changed from cpu to elapsed\n",
      "Presolve determined that the problem was infeasible with tolerance of 1e-08\n",
      "Analysis indicates model infeasible or unbounded\n",
      "0  Obj -0 Primal inf 7.9999999 (1) Dual inf 0.0299997 (3) w.o. free dual inf (0)\n",
      "3  Obj 4.5 Primal inf 1.4999999 (1) Dual inf 0.4999999 (1)\n",
      "4  Obj 3 Primal inf 2.9999999 (1)\n",
      "Primal infeasible - objective value 3\n",
      "PrimalInfeasible objective 3 - 4 iterations time 0.002\n",
      "\n",
      "Result - Linear relaxation infeasible\n",
      "\n",
      "Enumerated nodes:           0\n",
      "Total iterations:           0\n",
      "Time (CPU seconds):         0.00\n",
      "Time (Wallclock Seconds):   0.00\n",
      "\n",
      "Option for printingOptions changed from normal to all\n",
      "Total time (CPU seconds):       0.00   (Wallclock seconds):       0.00\n",
      "\n",
      "Passed: 3 points!\n"
     ]
    }
   ],
   "source": [
    "# Test 3: Infeasible problem\n",
    "m = 4\n",
    "n = 3\n",
    "list_c = [1, 1, 1]\n",
    "list_a = [[-2, -1, -2], [1, 0, 0], [0, 1, 0], [0, 0, 1]]\n",
    "list_b = [-8, 1, 1, 1]\n",
    "is_feas, is_bnded, sols = formulate_lp_problem(m, n, list_c, list_a, list_b)\n",
    "assert not is_feas, \"The LP should be infeasible -- your code returns feasible\"\n",
    "print(\"Passed: 3 points!\")"
   ]
  },
  {
   "cell_type": "code",
   "execution_count": 6,
   "id": "05a8c109",
   "metadata": {
    "execution": {
     "iopub.execute_input": "2024-06-11T16:51:00.012032Z",
     "iopub.status.busy": "2024-06-11T16:51:00.011246Z",
     "iopub.status.idle": "2024-06-11T16:51:00.029489Z",
     "shell.execute_reply": "2024-06-11T16:51:00.028326Z"
    }
   },
   "outputs": [
    {
     "name": "stdout",
     "output_type": "stream",
     "text": [
      "Welcome to the CBC MILP Solver \n",
      "Version: 2.10.3 \n",
      "Build Date: Dec 15 2019 \n",
      "\n",
      "command line - /home/woitek/.local/share/virtualenvs/coursera_linear_programming-sQGDHXUS/lib/python3.12/site-packages/pulp/solverdir/cbc/linux/64/cbc /tmp/b07e26ce648e40018e8eb162b1b5d416-pulp.mps -max -timeMode elapsed -branch -printingOptions all -solution /tmp/b07e26ce648e40018e8eb162b1b5d416-pulp.sol (default strategy 1)\n",
      "At line 2 NAME          MODEL\n",
      "At line 3 ROWS\n",
      "At line 21 COLUMNS\n",
      "At line 67 RHS\n",
      "At line 84 BOUNDS\n",
      "At line 100 ENDATA\n",
      "Problem MODEL has 16 rows, 15 columns and 30 elements\n",
      "Coin0008I MODEL read with 0 errors\n",
      "Option for timeMode changed from cpu to elapsed\n",
      "Presolve 0 (-16) rows, 0 (-15) columns and 0 (-30) elements\n",
      "Empty problem - 0 rows, 0 columns and 0 elements\n",
      "Optimal - objective value 2\n",
      "After Postsolve, objective 2, infeasibilities - dual 0 (0), primal 0 (0)\n",
      "Optimal objective 2 - 0 iterations time 0.002, Presolve 0.00\n",
      "Option for printingOptions changed from normal to all\n",
      "Total time (CPU seconds):       0.00   (Wallclock seconds):       0.00\n",
      "\n",
      "[-0.0, -0.0, -0.0, -0.0, -0.0, -0.0, 1.0, -0.0, -0.0, -0.0, -0.0, -0.0, -0.0, -0.0, -0.0]\n",
      "Passed: 3 points!\n"
     ]
    }
   ],
   "source": [
    "# Test 4\n",
    "m = 16\n",
    "n = 15\n",
    "list_c = [1] * n\n",
    "list_c[6] = list_c[6] + 1\n",
    "list_a = []\n",
    "list_b = []\n",
    "for i in range(n):\n",
    "    lst = [0] * n\n",
    "    lst[i] = -1\n",
    "    list_a.append(lst)\n",
    "    list_b.append(0)\n",
    "list_a.append([1] * n)\n",
    "list_b.append(1)\n",
    "is_feas, is_bnded, sols = formulate_lp_problem(m, n, list_c, list_a, list_b)\n",
    "assert is_feas, \"Problem is feasible but your code returned infeasible\"\n",
    "assert is_bnded, \"Problem is bounded but your code returned unbounded\"\n",
    "print(sols)\n",
    "assert abs(sols[6] - 1.0) <= 1e-03, \"Solution does not match expected one\"\n",
    "assert all([abs(sols[i]) <= 1e-03 for i in range(n) if i != 6]), \"Solution does not match expected one\"\n",
    "print(\"Passed: 3 points!\")"
   ]
  },
  {
   "cell_type": "markdown",
   "id": "e929f3d9",
   "metadata": {},
   "source": [
    "## Problem 2: LP formulation for an investment problem\n",
    "\n",
    "Write down the expression for the objective function in terms of\n",
    "$x_1, \\ldots, x_6$. Also specify if we are to maximize or minimize it.\n",
    "\\begin{equation}\n",
    "\\max \\qquad 25 x_1 + 20 x_2 + 3 x_3 + 1.5 x_4 + 3 x_5 + 4.5 x_6\n",
    "\\end{equation}\n",
    "\n",
    "Write down the constraint that expresses that the total cost of investment\n",
    "must be less than $B = 10,000$.\n",
    "\\begin{equation}\n",
    "129 x_1 + 286 x_2 + 72.29 x_3 + 38 x_4 + 52 x_5 + 148 x_6 \\leq 10,000\n",
    "\\end{equation}\n",
    "\n",
    "Write down the constraints that the total investment in each category cannot\n",
    "exceed 2/3 of the budget. You should write down three constraints, one for\n",
    "each category.\n",
    "\\begin{eqnarray}\n",
    "  387 x_1 + 858 x_2 &\\leq& 20,000 \\\\\n",
    "  216.87 x_3 + 114 x_4 &\\leq& 20,000 \\\\\n",
    "  156 x_5 + 444 x_6 &\\leq& 20,000\n",
    "\\end{eqnarray}\n",
    "\n",
    "Write down the constraints that the total investment in each category must\n",
    "exceed 1/6 of the budget. You should write down three constraints, one for\n",
    "each category.\n",
    "\\begin{eqnarray}\n",
    "  774 x_1 + 1,716 x_2 &\\geq& 10,000 \\\\\n",
    "  433.74 x_3 + 228 x_4 &\\geq& 10,000 \\\\\n",
    "  312 x_5 + 888 x_6 &\\geq& 10,000\n",
    "\\end{eqnarray}\n",
    "\n",
    "Write down an expression for the price of the overall portfolio. Also write\n",
    "down an expression for the overall earnings of the portfolio.\n",
    "\\begin{eqnarray}\n",
    "  \\mathrm{Price} &=& 129 x_1 + 286 x_2 + 72.29 x_3 + 38 x_4 + 52 x_5 + 148 x_6 \\\\\n",
    "  \\mathrm{Earnings} &=& 1.9 x_1 + 8.1 x_2 + 1.5 x_3 + 5 x_4 + 2.5 x_5 + 5.2 x_6\n",
    "\\end{eqnarray}\n",
    "\n",
    "We wish to enforce the constraint that the overall Price/Earnings ratio of\n",
    "the portfolio cannot exceed 15. Write down the constraint as\n",
    "$\\mathrm{Price} \\leq 15 \\times \\mathrm{Earnings}$.\n",
    "\\begin{equation}\n",
    "100.5 x_1 + 164.5 x_2 + 49.79 x_3 - 37 x_4 + 14.5 x_5 + 70 x_6 \\leq 0\n",
    "\\end{equation}"
   ]
  },
  {
   "cell_type": "code",
   "execution_count": 7,
   "id": "907a9222",
   "metadata": {
    "execution": {
     "iopub.execute_input": "2024-06-11T16:51:00.035796Z",
     "iopub.status.busy": "2024-06-11T16:51:00.035166Z",
     "iopub.status.idle": "2024-06-11T16:51:00.053601Z",
     "shell.execute_reply": "2024-06-11T16:51:00.052463Z"
    }
   },
   "outputs": [
    {
     "name": "stdout",
     "output_type": "stream",
     "text": [
      "Welcome to the CBC MILP Solver \n",
      "Version: 2.10.3 \n",
      "Build Date: Dec 15 2019 \n",
      "\n",
      "command line - /home/woitek/.local/share/virtualenvs/coursera_linear_programming-sQGDHXUS/lib/python3.12/site-packages/pulp/solverdir/cbc/linux/64/cbc /tmp/8fc517e55686476c9a84fe41fc89978e-pulp.mps -max -timeMode elapsed -branch -printingOptions all -solution /tmp/8fc517e55686476c9a84fe41fc89978e-pulp.sol (default strategy 1)\n",
      "At line 2 NAME          MODEL\n",
      "At line 3 ROWS\n",
      "At line 13 COLUMNS\n",
      "At line 44 RHS\n",
      "At line 53 BOUNDS\n",
      "At line 54 ENDATA\n",
      "Problem MODEL has 8 rows, 6 columns and 24 elements\n",
      "Coin0008I MODEL read with 0 errors\n",
      "Option for timeMode changed from cpu to elapsed\n",
      "Presolve 8 (0) rows, 6 (0) columns and 24 (0) elements\n",
      "0  Obj -0 Primal inf 40.144053 (3) Dual inf 79.812412 (6)\n",
      "0  Obj -0 Primal inf 40.144053 (3) Dual inf 5.7382841e+10 (6)\n",
      "6  Obj 1098.5985\n",
      "Optimal - objective value 1098.5985\n",
      "Optimal objective 1098.59854 - 6 iterations time 0.002\n",
      "Option for printingOptions changed from normal to all\n",
      "Total time (CPU seconds):       0.00   (Wallclock seconds):       0.00\n",
      "\n",
      "x1 = 33.830665\n",
      "x2 = 0.0\n",
      "x3 = 0.0\n",
      "x4 = 104.45204\n",
      "x5 = 32.051282\n",
      "x6 = 0.0\n",
      "Objective value = 1098.598531\n"
     ]
    }
   ],
   "source": [
    "# Create a linear programming model and set it to maximize its objective\n",
    "lpModel = LpProblem(\"InvestmentProblem\", LpMaximize)\n",
    "\n",
    "# Create a variable called x1 and set its bounds to be between 0 and infinity\n",
    "x1 = LpVariable(\"x1\", 0)\n",
    "\n",
    "# Next create variables x2, ..., x6\n",
    "x2 = LpVariable(\"x2\", 0)\n",
    "x3 = LpVariable(\"x3\", 0)\n",
    "x4 = LpVariable(\"x4\", 0)\n",
    "x5 = LpVariable(\"x5\", 0)\n",
    "x6 = LpVariable(\"x6\", 0)\n",
    "\n",
    "# Set the objective function\n",
    "lpModel += 25 * x1 + 20 * x2 + 3 * x3 + 1.5 * x4 + 3 * x5 + 4.5 * x6\n",
    "\n",
    "# Add the constraints\n",
    "lpModel += 129 * x1 + 286 * x2 + 72.29 * x3 + 38 * x4 + 52 * x5 + 148 * x6 <= 10000\n",
    "lpModel += 387 * x1 + 858 * x2 <= 20000\n",
    "lpModel += 216.87 * x3 + 114 * x4 <= 20000\n",
    "lpModel += 156 * x5 + 444 * x6 <= 20000\n",
    "lpModel += 774 * x1 + 1716 * x2 >= 10000\n",
    "lpModel += 433.74 * x3 + 228 * x4 >= 10000\n",
    "lpModel += 312 * x5 + 888 * x6 >= 10000\n",
    "lpModel += 100.5 * x1 + 164.5 * x2 + 49.79 * x3 - 37 * x4 + 14.5 * x5 + 70 * x6 <= 0\n",
    "\n",
    "# Solve the model and print the solutions\n",
    "lpModel.solve()\n",
    "for v in lpModel.variables():\n",
    "    print(v.name, \"=\", v.varValue)\n",
    "\n",
    "# Optimized objective function\n",
    "print(\"Objective value =\", value(lpModel.objective))"
   ]
  },
  {
   "cell_type": "code",
   "execution_count": 8,
   "id": "3603fa9a",
   "metadata": {
    "execution": {
     "iopub.execute_input": "2024-06-11T16:51:00.058357Z",
     "iopub.status.busy": "2024-06-11T16:51:00.057856Z",
     "iopub.status.idle": "2024-06-11T16:51:00.063380Z",
     "shell.execute_reply": "2024-06-11T16:51:00.062329Z"
    }
   },
   "outputs": [],
   "source": [
    "assert abs(value(lpModel.objective) - 1098.59) <= 0.1, \"Test failed\""
   ]
  }
 ],
 "metadata": {
  "jupytext": {
   "formats": "ipynb,py:percent"
  },
  "kernelspec": {
   "display_name": "Python 3 (ipykernel)",
   "language": "python",
   "name": "python3"
  },
  "language_info": {
   "codemirror_mode": {
    "name": "ipython",
    "version": 3
   },
   "file_extension": ".py",
   "mimetype": "text/x-python",
   "name": "python",
   "nbconvert_exporter": "python",
   "pygments_lexer": "ipython3",
   "version": "3.12.3"
  }
 },
 "nbformat": 4,
 "nbformat_minor": 5
}
