{
 "cells": [
  {
   "cell_type": "markdown",
   "id": "bc4ceec2-4440-4371-9243-13b4eb7eead3",
   "metadata": {},
   "source": [
    "# Quiz: Job Scheduling\n",
    "## Imports"
   ]
  },
  {
   "cell_type": "code",
   "execution_count": 1,
   "id": "57c3107c-9d07-433a-a21b-cfd754cb41ac",
   "metadata": {},
   "outputs": [],
   "source": [
    "import heapq\n",
    "from dataclasses import dataclass\n",
    "from operator import itemgetter\n",
    "from pprint import pprint"
   ]
  },
  {
   "cell_type": "markdown",
   "id": "78701a40",
   "metadata": {
    "lines_to_next_cell": 2
   },
   "source": [
    "## Jobs"
   ]
  },
  {
   "cell_type": "code",
   "execution_count": 2,
   "id": "c3d1397a",
   "metadata": {},
   "outputs": [],
   "source": [
    "@dataclass\n",
    "class Job:\n",
    "    id_: int\n",
    "    time: int"
   ]
  },
  {
   "cell_type": "code",
   "execution_count": 3,
   "id": "dfe3aa10",
   "metadata": {},
   "outputs": [],
   "source": [
    "jobs: list[Job] = [\n",
    "    Job(id_=1, time=5),\n",
    "    Job(id_=2, time=6),\n",
    "    Job(id_=3, time=2),\n",
    "    Job(id_=4, time=5),\n",
    "    Job(id_=5, time=2),\n",
    "    Job(id_=6, time=1),\n",
    "    Job(id_=7, time=3),\n",
    "    Job(id_=8, time=4),\n",
    "]"
   ]
  },
  {
   "cell_type": "markdown",
   "id": "76620645",
   "metadata": {
    "lines_to_next_cell": 2
   },
   "source": [
    "## Problem 1"
   ]
  },
  {
   "cell_type": "code",
   "execution_count": 4,
   "id": "df933006",
   "metadata": {},
   "outputs": [],
   "source": [
    "def greedy_scheduler(jobs: list[Job], num_procs: int) -> dict[int, list[Job]]:\n",
    "    num_jobs = len(jobs)\n",
    "    assign = [-1] * num_jobs\n",
    "\n",
    "    heap = [(0, i) for i in range(1, num_procs + 1)]\n",
    "    heapq.heapify(heap)\n",
    "\n",
    "    for i, job in enumerate(jobs):\n",
    "        j, k = heapq.heappop(heap)\n",
    "        assign[i] = k\n",
    "        heapq.heappush(heap, (j + job.time, k))\n",
    "\n",
    "    assign_dict: dict[int, list[Job]] = {}\n",
    "\n",
    "    for job, proc in zip(jobs, assign):\n",
    "        if proc in assign_dict:\n",
    "            assign_dict[proc].append(job)\n",
    "        else:\n",
    "            assign_dict[proc] = [job]\n",
    "\n",
    "    return assign_dict"
   ]
  },
  {
   "cell_type": "code",
   "execution_count": 5,
   "id": "9e67cf57",
   "metadata": {},
   "outputs": [],
   "source": [
    "def print_assignment(assign: dict[int, list[Job]]) -> None:\n",
    "    for proc, jobs in assign.items():\n",
    "        ids = \", \".join(str(job.id_) for job in jobs)\n",
    "        total_time = sum(job.time for job in jobs)\n",
    "        print(f\"Processor {proc} -> Jobs {ids} -- Total time: {total_time}\")"
   ]
  },
  {
   "cell_type": "code",
   "execution_count": 6,
   "id": "7cad6cc6",
   "metadata": {},
   "outputs": [],
   "source": [
    "def compute_makespan(assign: dict[int, list[Job]]) -> tuple[int, int]:\n",
    "    total_times: list[tuple[int, int]] = []\n",
    "    for proc, jobs in assign.items():\n",
    "        total_time = sum(job.time for job in jobs)\n",
    "        total_times.append((total_time, proc))\n",
    "    return max(total_times, key=itemgetter(0))"
   ]
  },
  {
   "cell_type": "code",
   "execution_count": 7,
   "id": "03c40ef2",
   "metadata": {},
   "outputs": [
    {
     "name": "stdout",
     "output_type": "stream",
     "text": [
      "Processor 1 -> Jobs 1, 5, 7 -- Total time: 10\n",
      "Processor 2 -> Jobs 2, 6, 8 -- Total time: 11\n",
      "Processor 3 -> Jobs 3, 4 -- Total time: 7\n",
      "Makespan = 11 -- Processor 2\n"
     ]
    }
   ],
   "source": [
    "assign_unsorted = greedy_scheduler(jobs, num_procs=3)\n",
    "print_assignment(assign_unsorted)\n",
    "makespan_unsorted, proc = compute_makespan(assign_unsorted)\n",
    "print(f\"Makespan = {makespan_unsorted} -- Processor {proc}\")"
   ]
  },
  {
   "cell_type": "markdown",
   "id": "fd139bd7",
   "metadata": {},
   "source": [
    "## Problem 2"
   ]
  },
  {
   "cell_type": "code",
   "execution_count": 8,
   "id": "e8f04540",
   "metadata": {},
   "outputs": [
    {
     "name": "stdout",
     "output_type": "stream",
     "text": [
      "Makespan = 10 -- Processor 1\n"
     ]
    }
   ],
   "source": [
    "assign_2 = {\n",
    "    1: [jobs[1], jobs[2], jobs[4]],\n",
    "    2: [jobs[0], jobs[5], jobs[6]],\n",
    "    3: [jobs[3], jobs[7]],\n",
    "}\n",
    "makespan_2, proc = compute_makespan(assign_2)\n",
    "print(f\"Makespan = {makespan_2} -- Processor {proc}\")"
   ]
  },
  {
   "cell_type": "markdown",
   "id": "978f738b",
   "metadata": {},
   "source": [
    "## Problem 3"
   ]
  },
  {
   "cell_type": "code",
   "execution_count": 9,
   "id": "c337fb55",
   "metadata": {},
   "outputs": [
    {
     "name": "stdout",
     "output_type": "stream",
     "text": [
      "[Job(id_=2, time=6),\n",
      " Job(id_=1, time=5),\n",
      " Job(id_=4, time=5),\n",
      " Job(id_=8, time=4),\n",
      " Job(id_=7, time=3),\n",
      " Job(id_=3, time=2),\n",
      " Job(id_=5, time=2),\n",
      " Job(id_=6, time=1)]\n"
     ]
    }
   ],
   "source": [
    "jobs = sorted(jobs, key=lambda j: j.time, reverse=True)\n",
    "pprint(jobs)"
   ]
  },
  {
   "cell_type": "code",
   "execution_count": 10,
   "id": "55ef4857",
   "metadata": {},
   "outputs": [
    {
     "name": "stdout",
     "output_type": "stream",
     "text": [
      "Processor 1 -> Jobs 2, 3, 5 -- Total time: 10\n",
      "Processor 2 -> Jobs 1, 8 -- Total time: 9\n",
      "Processor 3 -> Jobs 4, 7, 6 -- Total time: 9\n",
      "Makespan = 10 -- Processor 1\n"
     ]
    }
   ],
   "source": [
    "assign_sorted = greedy_scheduler(jobs, num_procs=3)\n",
    "print_assignment(assign_sorted)\n",
    "makespan_sorted, proc = compute_makespan(assign_sorted)\n",
    "print(f\"Makespan = {makespan_sorted} -- Processor {proc}\")"
   ]
  },
  {
   "cell_type": "markdown",
   "id": "1770b77d",
   "metadata": {},
   "source": [
    "## Problem 4\n",
    "- The total time for all jobs is 28. No matter how we distribute it among\n",
    "  three processors, at least one processor must have finish time more than\n",
    "  $\\frac{28}{3}$ or $9.3333\\ldots$ Therefore, the optimal answer cannot be\n",
    "  smaller than 10.\n",
    "- By the pigeon hole principle, if we consider the first four job IDs 1, 2,\n",
    "  3, 4; at least two jobs must share the same processor in any assignment.\n",
    "  This yields a lower bound of 7 on the optimal solution.\n",
    "- The following assignment: [same assignment from Problem 2] has a makespan\n",
    "  of 10. And therefore the optimal solution must have value $\\leq 10$."
   ]
  }
 ],
 "metadata": {
  "jupytext": {
   "formats": "ipynb,py:percent"
  },
  "kernelspec": {
   "display_name": "Python 3 (ipykernel)",
   "language": "python",
   "name": "python3"
  },
  "language_info": {
   "codemirror_mode": {
    "name": "ipython",
    "version": 3
   },
   "file_extension": ".py",
   "mimetype": "text/x-python",
   "name": "python",
   "nbconvert_exporter": "python",
   "pygments_lexer": "ipython3",
   "version": "3.12.3"
  }
 },
 "nbformat": 4,
 "nbformat_minor": 5
}
