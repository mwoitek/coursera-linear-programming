{
 "cells": [
  {
   "cell_type": "markdown",
   "id": "e7cfba3a-8081-46d4-ab0e-d5a285b5cb0c",
   "metadata": {
    "lines_to_next_cell": 2
   },
   "source": [
    "# Quiz: Vertex Cover\n",
    "## Problem 1"
   ]
  },
  {
   "cell_type": "code",
   "execution_count": 1,
   "id": "966246e7",
   "metadata": {},
   "outputs": [],
   "source": [
    "class Graph:\n",
    "    def __init__(self, edges):\n",
    "        self.num_edges = len(edges)\n",
    "        self.adj_list = dict()\n",
    "        self.degrees = dict()\n",
    "\n",
    "        for edge in edges:\n",
    "            self.add_edge(edge)\n",
    "\n",
    "    def add_edge(self, edge):\n",
    "        u, v = edge\n",
    "        if v < u:\n",
    "            u, v = v, u\n",
    "\n",
    "        if u in self.adj_list:\n",
    "            self.adj_list[u].add(v)\n",
    "        else:\n",
    "            self.adj_list[u] = {v}\n",
    "\n",
    "        if u in self.degrees:\n",
    "            self.degrees[u] += 1\n",
    "        else:\n",
    "            self.degrees[u] = 1\n",
    "\n",
    "        if v in self.degrees:\n",
    "            self.degrees[v] += 1\n",
    "        else:\n",
    "            self.degrees[v] = 1\n",
    "\n",
    "    def max_degree_vertex(self):\n",
    "        return max(self.degrees.items(), key=lambda p: (p[1], -p[0]))[0]\n",
    "\n",
    "    def remove_vertex(self, vertex):\n",
    "        self.num_edges -= self.degrees[vertex]\n",
    "        del self.degrees[vertex]\n",
    "\n",
    "        if vertex in self.adj_list:\n",
    "            for v in self.adj_list[vertex]:\n",
    "                self.degrees[v] -= 1\n",
    "            del self.adj_list[vertex]\n",
    "\n",
    "        v = vertex - 1\n",
    "        while v >= 1:\n",
    "            if self.has_edge((v, vertex)):\n",
    "                self.adj_list[v].remove(vertex)\n",
    "                self.degrees[v] -= 1\n",
    "            v -= 1\n",
    "\n",
    "    def has_edge(self, edge):\n",
    "        u, v = edge\n",
    "        if v < u:\n",
    "            u, v = v, u\n",
    "        return u in self.adj_list and v in self.adj_list[u]\n",
    "\n",
    "    def has_edges(self):\n",
    "        return self.num_edges > 0\n",
    "\n",
    "    def vertex_cover_max_degree(self):\n",
    "        vertex_cover = []\n",
    "\n",
    "        while self.has_edges():\n",
    "            vertex = self.max_degree_vertex()\n",
    "            vertex_cover.append(vertex)\n",
    "            self.remove_vertex(vertex)\n",
    "\n",
    "        return vertex_cover\n",
    "\n",
    "    def vertex_cover_max_matching(self, edges_to_process):\n",
    "        vertex_cover = []\n",
    "        i = 0\n",
    "\n",
    "        while self.has_edges():\n",
    "            edge = edges_to_process[i]\n",
    "            if not self.has_edge(edge):\n",
    "                i += 1\n",
    "                continue\n",
    "\n",
    "            u, v = edge\n",
    "            vertex_cover.append(u)\n",
    "            vertex_cover.append(v)\n",
    "\n",
    "            self.remove_vertex(u)\n",
    "            self.remove_vertex(v)\n",
    "            i += 1\n",
    "\n",
    "        return vertex_cover"
   ]
  },
  {
   "cell_type": "code",
   "execution_count": 2,
   "id": "2b92eb47",
   "metadata": {},
   "outputs": [],
   "source": [
    "edges = [\n",
    "    (1, 2),\n",
    "    (1, 3),\n",
    "    (1, 4),\n",
    "    (2, 3),\n",
    "    (2, 6),\n",
    "    (3, 4),\n",
    "    (3, 5),\n",
    "    (3, 6),\n",
    "    (4, 5),\n",
    "    (4, 7),\n",
    "    (5, 6),\n",
    "    (5, 7),\n",
    "    (6, 7),\n",
    "]"
   ]
  },
  {
   "cell_type": "code",
   "execution_count": 3,
   "id": "7b2b26a9",
   "metadata": {},
   "outputs": [
    {
     "data": {
      "text/plain": [
       "[3, 4, 6, 1, 5]"
      ]
     },
     "execution_count": 3,
     "metadata": {},
     "output_type": "execute_result"
    }
   ],
   "source": [
    "g1 = Graph(edges)\n",
    "g1.vertex_cover_max_degree()"
   ]
  },
  {
   "cell_type": "markdown",
   "id": "2e5391d7",
   "metadata": {},
   "source": [
    "- The greedy algorithm produces a vertex cover of size 5 that involves nodes\n",
    "  1, 3, 4, 5, 6.\n",
    "- Node 6 is the third node added to the cover.\n",
    "- Node 3 is the very first node added to the cover.\n",
    "- Node 4 is the second node added to the cover.\n",
    "\n",
    "## Problem 2"
   ]
  },
  {
   "cell_type": "code",
   "execution_count": 4,
   "id": "33b645e8",
   "metadata": {},
   "outputs": [
    {
     "data": {
      "text/plain": [
       "6"
      ]
     },
     "execution_count": 4,
     "metadata": {},
     "output_type": "execute_result"
    }
   ],
   "source": [
    "g2 = Graph(edges)\n",
    "vertex_cover = g2.vertex_cover_max_matching(edges)\n",
    "len(vertex_cover)"
   ]
  },
  {
   "cell_type": "code",
   "execution_count": 5,
   "id": "02d30e9c",
   "metadata": {},
   "outputs": [
    {
     "data": {
      "text/plain": [
       "[1, 2, 3, 4, 5, 6]"
      ]
     },
     "execution_count": 5,
     "metadata": {},
     "output_type": "execute_result"
    }
   ],
   "source": [
    "vertex_cover"
   ]
  }
 ],
 "metadata": {
  "jupytext": {
   "formats": "ipynb,py:percent"
  },
  "kernelspec": {
   "display_name": "Python 3 (ipykernel)",
   "language": "python",
   "name": "python3"
  },
  "language_info": {
   "codemirror_mode": {
    "name": "ipython",
    "version": 3
   },
   "file_extension": ".py",
   "mimetype": "text/x-python",
   "name": "python",
   "nbconvert_exporter": "python",
   "pygments_lexer": "ipython3",
   "version": "3.12.3"
  }
 },
 "nbformat": 4,
 "nbformat_minor": 5
}
