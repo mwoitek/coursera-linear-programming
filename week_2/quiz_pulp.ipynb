{
 "cells": [
  {
   "cell_type": "markdown",
   "id": "f0ef947e",
   "metadata": {},
   "source": [
    "# Quiz: Formulating/Solving ILPs\n",
    "## Imports"
   ]
  },
  {
   "cell_type": "code",
   "execution_count": 1,
   "id": "3eaac02d",
   "metadata": {
    "execution": {
     "iopub.execute_input": "2024-06-12T00:25:22.766487Z",
     "iopub.status.busy": "2024-06-12T00:25:22.765424Z",
     "iopub.status.idle": "2024-06-12T00:25:22.816720Z",
     "shell.execute_reply": "2024-06-12T00:25:22.815699Z"
    }
   },
   "outputs": [],
   "source": [
    "import pulp as pl"
   ]
  },
  {
   "cell_type": "markdown",
   "id": "3d6e8ae9",
   "metadata": {},
   "source": [
    "## Problem 1"
   ]
  },
  {
   "cell_type": "code",
   "execution_count": 2,
   "id": "8fe13daf",
   "metadata": {
    "execution": {
     "iopub.execute_input": "2024-06-12T00:25:22.822056Z",
     "iopub.status.busy": "2024-06-12T00:25:22.821619Z",
     "iopub.status.idle": "2024-06-12T00:25:22.845357Z",
     "shell.execute_reply": "2024-06-12T00:25:22.842920Z"
    }
   },
   "outputs": [
    {
     "name": "stdout",
     "output_type": "stream",
     "text": [
      "Welcome to the CBC MILP Solver \n",
      "Version: 2.10.3 \n",
      "Build Date: Dec 15 2019 \n",
      "\n",
      "command line - /home/woitek/.local/share/virtualenvs/coursera_linear_programming-sQGDHXUS/lib/python3.12/site-packages/pulp/solverdir/cbc/linux/64/cbc /tmp/eec9601981874d4899db73fb1a0ba840-pulp.mps -max -timeMode elapsed -branch -printingOptions all -solution /tmp/eec9601981874d4899db73fb1a0ba840-pulp.sol (default strategy 1)\n",
      "At line 2 NAME          MODEL\n",
      "At line 3 ROWS\n",
      "At line 9 COLUMNS\n",
      "At line 36 RHS\n",
      "At line 41 BOUNDS\n",
      "At line 52 ENDATA\n",
      "Problem MODEL has 4 rows, 5 columns and 13 elements\n",
      "Coin0008I MODEL read with 0 errors\n",
      "Option for timeMode changed from cpu to elapsed\n",
      "Continuous objective value is 40 - 0.00 seconds\n",
      "Cgl0004I processed model has 4 rows, 4 columns (4 integer (0 of which binary)) and 12 elements\n",
      "Cutoff increment increased from 1e-05 to 0.9999\n",
      "Cbc0012I Integer solution of -40 found by DiveCoefficient after 0 iterations and 0 nodes (0.00 seconds)\n",
      "Cbc0001I Search completed - best objective -40, took 0 iterations and 0 nodes (0.00 seconds)\n",
      "Cbc0035I Maximum depth 0, 0 variables fixed on reduced cost\n",
      "Cuts at root node changed objective from -40 to -40\n",
      "Probing was tried 0 times and created 0 cuts of which 0 were active after adding rounds of cuts (0.000 seconds)\n",
      "Gomory was tried 0 times and created 0 cuts of which 0 were active after adding rounds of cuts (0.000 seconds)\n",
      "Knapsack was tried 0 times and created 0 cuts of which 0 were active after adding rounds of cuts (0.000 seconds)\n",
      "Clique was tried 0 times and created 0 cuts of which 0 were active after adding rounds of cuts (0.000 seconds)\n",
      "MixedIntegerRounding2 was tried 0 times and created 0 cuts of which 0 were active after adding rounds of cuts (0.000 seconds)\n",
      "FlowCover was tried 0 times and created 0 cuts of which 0 were active after adding rounds of cuts (0.000 seconds)\n",
      "TwoMirCuts was tried 0 times and created 0 cuts of which 0 were active after adding rounds of cuts (0.000 seconds)\n",
      "ZeroHalf was tried 0 times and created 0 cuts of which 0 were active after adding rounds of cuts (0.000 seconds)\n",
      "\n",
      "Result - Optimal solution found\n",
      "\n",
      "Objective value:                40.00000000\n",
      "Enumerated nodes:               0\n",
      "Total iterations:               0\n",
      "Time (CPU seconds):             0.00\n",
      "Time (Wallclock seconds):       0.00\n",
      "\n",
      "Option for printingOptions changed from normal to all\n",
      "Total time (CPU seconds):       0.00   (Wallclock seconds):       0.00\n",
      "\n",
      "x0 = 5.0\n",
      "x1 = -15.0\n",
      "x2 = -15.0\n",
      "x3 = -15.0\n",
      "x4 = -15.0\n",
      "Optimal value = 40.00\n"
     ]
    }
   ],
   "source": [
    "model_1 = pl.LpProblem(\"Problem1\", pl.LpMaximize)\n",
    "vars_1 = [pl.LpVariable(f\"x{i}\", lowBound=-15, upBound=15, cat=pl.LpInteger) for i in range(5)]\n",
    "\n",
    "# Objective function\n",
    "model_1 += 2 * vars_1[0] - 3 * vars_1[1] + vars_1[2]\n",
    "\n",
    "# Constraints\n",
    "model_1 += vars_1[0] - vars_1[1] + vars_1[2] <= 5\n",
    "model_1 += vars_1[0] - vars_1[1] + 4 * vars_1[2] <= 7\n",
    "model_1 += vars_1[0] + 2 * vars_1[1] - vars_1[2] + vars_1[3] <= 14\n",
    "model_1 += vars_1[2] - vars_1[3] + vars_1[4] <= 7\n",
    "\n",
    "model_1.solve()\n",
    "\n",
    "for var in vars_1:\n",
    "    print(var.name, \"=\", var.varValue)\n",
    "\n",
    "print(f\"Optimal value = {model_1.objective.value():.2f}\")  # Optimal value = 40.00"
   ]
  },
  {
   "cell_type": "markdown",
   "id": "c50f7e5b",
   "metadata": {},
   "source": [
    "## Problem 2"
   ]
  },
  {
   "cell_type": "code",
   "execution_count": 3,
   "id": "d26c9390",
   "metadata": {
    "execution": {
     "iopub.execute_input": "2024-06-12T00:25:22.849977Z",
     "iopub.status.busy": "2024-06-12T00:25:22.849648Z",
     "iopub.status.idle": "2024-06-12T00:25:22.866398Z",
     "shell.execute_reply": "2024-06-12T00:25:22.864587Z"
    }
   },
   "outputs": [
    {
     "name": "stdout",
     "output_type": "stream",
     "text": [
      "Welcome to the CBC MILP Solver \n",
      "Version: 2.10.3 \n",
      "Build Date: Dec 15 2019 \n",
      "\n",
      "command line - /home/woitek/.local/share/virtualenvs/coursera_linear_programming-sQGDHXUS/lib/python3.12/site-packages/pulp/solverdir/cbc/linux/64/cbc /tmp/93ee66b101f2459f8db502831b95e38a-pulp.mps -max -timeMode elapsed -branch -printingOptions all -solution /tmp/93ee66b101f2459f8db502831b95e38a-pulp.sol (default strategy 1)\n",
      "At line 2 NAME          MODEL\n",
      "At line 3 ROWS\n",
      "At line 9 COLUMNS\n",
      "At line 26 RHS\n",
      "At line 31 BOUNDS\n",
      "At line 42 ENDATA\n",
      "Problem MODEL has 4 rows, 5 columns and 13 elements\n",
      "Coin0008I MODEL read with 0 errors\n",
      "Option for timeMode changed from cpu to elapsed\n",
      "Presolve 4 (0) rows, 4 (-1) columns and 12 (-1) elements\n",
      "0  Obj -0 Dual inf 2.999998 (2)\n",
      "1  Obj 40\n",
      "Optimal - objective value 40\n",
      "After Postsolve, objective 40, infeasibilities - dual 0 (0), primal 0 (0)\n",
      "Optimal objective 40 - 1 iterations time 0.002, Presolve 0.00\n",
      "Option for printingOptions changed from normal to all\n",
      "Total time (CPU seconds):       0.00   (Wallclock seconds):       0.00\n",
      "\n",
      "x0 = 5.0\n",
      "x1 = -15.0\n",
      "x2 = -15.0\n",
      "x3 = -15.0\n",
      "x4 = -15.0\n",
      "Optimal value = 40.00\n"
     ]
    }
   ],
   "source": [
    "model_2 = pl.LpProblem(\"Problem2\", pl.LpMaximize)\n",
    "vars_2 = [pl.LpVariable(f\"x{i}\", lowBound=-15, upBound=15) for i in range(5)]\n",
    "\n",
    "# Objective function\n",
    "model_2 += 2 * vars_2[0] - 3 * vars_2[1] + vars_2[2]\n",
    "\n",
    "# Constraints\n",
    "model_2 += vars_2[0] - vars_2[1] + vars_2[2] <= 5\n",
    "model_2 += vars_2[0] - vars_2[1] + 4 * vars_2[2] <= 7\n",
    "model_2 += vars_2[0] + 2 * vars_2[1] - vars_2[2] + vars_2[3] <= 14\n",
    "model_2 += vars_2[2] - vars_2[3] + vars_2[4] <= 7\n",
    "\n",
    "model_2.solve()\n",
    "\n",
    "for var in vars_2:\n",
    "    print(var.name, \"=\", var.varValue)\n",
    "\n",
    "print(f\"Optimal value = {model_2.objective.value():.2f}\")  # Optimal value = 40.00"
   ]
  },
  {
   "cell_type": "markdown",
   "id": "27afb377",
   "metadata": {},
   "source": [
    "## Problem 3\n",
    "- They have the same solution.\n",
    "- The integrality gap is 1.\n",
    "- The LP relaxation yields an integral solution for all the decision\n",
    "  variables and we know from just that information that the ILP will also\n",
    "  have the same optimal solution.\n",
    "\n",
    "## Problem 4"
   ]
  },
  {
   "cell_type": "code",
   "execution_count": 4,
   "id": "b76d6bf7",
   "metadata": {
    "execution": {
     "iopub.execute_input": "2024-06-12T00:25:22.870983Z",
     "iopub.status.busy": "2024-06-12T00:25:22.870498Z",
     "iopub.status.idle": "2024-06-12T00:25:22.887299Z",
     "shell.execute_reply": "2024-06-12T00:25:22.886213Z"
    }
   },
   "outputs": [
    {
     "name": "stdout",
     "output_type": "stream",
     "text": [
      "Welcome to the CBC MILP Solver \n",
      "Version: 2.10.3 \n",
      "Build Date: Dec 15 2019 \n",
      "\n",
      "command line - /home/woitek/.local/share/virtualenvs/coursera_linear_programming-sQGDHXUS/lib/python3.12/site-packages/pulp/solverdir/cbc/linux/64/cbc /tmp/598bdac553964d1082891eba5ca92987-pulp.mps -timeMode elapsed -branch -printingOptions all -solution /tmp/598bdac553964d1082891eba5ca92987-pulp.sol (default strategy 1)\n",
      "At line 2 NAME          MODEL\n",
      "At line 3 ROWS\n",
      "At line 9 COLUMNS\n",
      "At line 27 RHS\n",
      "At line 32 BOUNDS\n",
      "At line 39 ENDATA\n",
      "Problem MODEL has 4 rows, 3 columns and 8 elements\n",
      "Coin0008I MODEL read with 0 errors\n",
      "Option for timeMode changed from cpu to elapsed\n",
      "Continuous objective value is -0.25 - 0.00 seconds\n",
      "Cgl0000I Cut generators found to be infeasible! (or unbounded)\n",
      "Pre-processing says infeasible or unbounded\n",
      "Option for printingOptions changed from normal to all\n",
      "Total time (CPU seconds):       0.00   (Wallclock seconds):       0.00\n",
      "\n",
      "Status = Infeasible\n"
     ]
    }
   ],
   "source": [
    "model_3 = pl.LpProblem(\"Problem4\", pl.LpMinimize)\n",
    "vars_3 = [pl.LpVariable(f\"x{i}\", lowBound=-1, upBound=1, cat=pl.LpInteger) for i in range(3)]\n",
    "\n",
    "# Objective function\n",
    "model_3 += 2 * vars_3[0] - 3 * vars_3[1] + vars_3[2]\n",
    "\n",
    "# Constraint\n",
    "model_3 += vars_3[0] - vars_3[1] >= 0.5\n",
    "model_3 += vars_3[0] - vars_3[1] <= 0.75\n",
    "model_3 += vars_3[1] - vars_3[2] <= 1.25\n",
    "model_3 += vars_3[1] - vars_3[2] >= 0.95\n",
    "\n",
    "model_3.solve()\n",
    "print(f\"Status = {pl.LpStatus[model_3.status]}\")  # Status = Infeasible"
   ]
  },
  {
   "cell_type": "markdown",
   "id": "c8d24e83",
   "metadata": {},
   "source": [
    "## Problem 5"
   ]
  },
  {
   "cell_type": "code",
   "execution_count": 5,
   "id": "c6c5a1b3",
   "metadata": {
    "execution": {
     "iopub.execute_input": "2024-06-12T00:25:22.893209Z",
     "iopub.status.busy": "2024-06-12T00:25:22.892774Z",
     "iopub.status.idle": "2024-06-12T00:25:22.910670Z",
     "shell.execute_reply": "2024-06-12T00:25:22.909176Z"
    }
   },
   "outputs": [
    {
     "name": "stdout",
     "output_type": "stream",
     "text": [
      "Welcome to the CBC MILP Solver \n",
      "Version: 2.10.3 \n",
      "Build Date: Dec 15 2019 \n",
      "\n",
      "command line - /home/woitek/.local/share/virtualenvs/coursera_linear_programming-sQGDHXUS/lib/python3.12/site-packages/pulp/solverdir/cbc/linux/64/cbc /tmp/4c8e8d0310ed4fefb6270879d6d13347-pulp.mps -timeMode elapsed -branch -printingOptions all -solution /tmp/4c8e8d0310ed4fefb6270879d6d13347-pulp.sol (default strategy 1)\n",
      "At line 2 NAME          MODEL\n",
      "At line 3 ROWS\n",
      "At line 9 COLUMNS\n",
      "At line 21 RHS\n",
      "At line 26 BOUNDS\n",
      "At line 33 ENDATA\n",
      "Problem MODEL has 4 rows, 3 columns and 8 elements\n",
      "Coin0008I MODEL read with 0 errors\n",
      "Option for timeMode changed from cpu to elapsed\n",
      "Presolve 4 (0) rows, 3 (0) columns and 8 (0) elements\n",
      "0  Obj 0 Primal inf 1.4499998 (2) Dual inf 2.9999999 (1)\n",
      "2  Obj -0.25\n",
      "Optimal - objective value -0.25\n",
      "Optimal objective -0.25 - 2 iterations time 0.002\n",
      "Option for printingOptions changed from normal to all\n",
      "Total time (CPU seconds):       0.00   (Wallclock seconds):       0.00\n",
      "\n",
      "Status = Optimal\n"
     ]
    }
   ],
   "source": [
    "model_4 = pl.LpProblem(\"Problem5\", pl.LpMinimize)\n",
    "vars_4 = [pl.LpVariable(f\"x{i}\", lowBound=-1, upBound=1) for i in range(3)]\n",
    "\n",
    "# Objective function\n",
    "model_4 += 2 * vars_4[0] - 3 * vars_4[1] + vars_4[2]\n",
    "\n",
    "# Constraint\n",
    "model_4 += vars_4[0] - vars_4[1] >= 0.5\n",
    "model_4 += vars_4[0] - vars_4[1] <= 0.75\n",
    "model_4 += vars_4[1] - vars_4[2] <= 1.25\n",
    "model_4 += vars_4[1] - vars_4[2] >= 0.95\n",
    "\n",
    "model_4.solve()\n",
    "print(f\"Status = {pl.LpStatus[model_4.status]}\")  # Status = Optimal"
   ]
  }
 ],
 "metadata": {
  "jupytext": {
   "formats": "ipynb,py:percent"
  },
  "kernelspec": {
   "display_name": "Python 3 (ipykernel)",
   "language": "python",
   "name": "python3"
  },
  "language_info": {
   "codemirror_mode": {
    "name": "ipython",
    "version": 3
   },
   "file_extension": ".py",
   "mimetype": "text/x-python",
   "name": "python",
   "nbconvert_exporter": "python",
   "pygments_lexer": "ipython3",
   "version": "3.12.3"
  }
 },
 "nbformat": 4,
 "nbformat_minor": 5
}
