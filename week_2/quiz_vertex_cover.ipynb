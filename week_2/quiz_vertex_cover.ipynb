{
 "cells": [
  {
   "cell_type": "markdown",
   "id": "a2b5dae8-be8c-4a77-acf0-e87657950015",
   "metadata": {},
   "source": [
    "# Quiz: Vertex Cover ILP, LP Relaxation and Integrality Gap\n",
    "## Imports"
   ]
  },
  {
   "cell_type": "code",
   "execution_count": 1,
   "id": "c337bf78-2fa2-40f7-9fe8-c56477d379ee",
   "metadata": {},
   "outputs": [],
   "source": [
    "import pulp as pl"
   ]
  },
  {
   "cell_type": "markdown",
   "id": "f78e0d0b",
   "metadata": {},
   "source": [
    "## Problem 1\n",
    "- Using the rounding procedure on fractional solutions of the LP relaxation\n",
    "  would yield a vertex cover of size between 442 and 884.\n",
    "- The optimal vertex cover size lies in the range [442, 884].\n",
    "\n",
    "## Problem 2"
   ]
  },
  {
   "cell_type": "code",
   "execution_count": 2,
   "id": "4b5e662a",
   "metadata": {},
   "outputs": [],
   "source": [
    "edges = [\n",
    "    (1, 2),\n",
    "    (1, 3),\n",
    "    (1, 4),\n",
    "    (2, 3),\n",
    "    (2, 6),\n",
    "    (3, 4),\n",
    "    (3, 5),\n",
    "    (3, 6),\n",
    "    (4, 5),\n",
    "    (4, 7),\n",
    "    (5, 6),\n",
    "    (5, 7),\n",
    "    (6, 7),\n",
    "]"
   ]
  },
  {
   "cell_type": "code",
   "execution_count": 3,
   "id": "c46bc0b5",
   "metadata": {},
   "outputs": [
    {
     "name": "stdout",
     "output_type": "stream",
     "text": [
      "Welcome to the CBC MILP Solver \n",
      "Version: 2.10.3 \n",
      "Build Date: Dec 15 2019 \n",
      "\n",
      "command line - /home/woitek/.local/share/virtualenvs/coursera_linear_programming-sQGDHXUS/lib/python3.12/site-packages/pulp/solverdir/cbc/linux/64/cbc /tmp/92370d87021a4877b4ddc6339a9fc131-pulp.mps -timeMode elapsed -branch -printingOptions all -solution /tmp/92370d87021a4877b4ddc6339a9fc131-pulp.sol (default strategy 1)\n",
      "At line 2 NAME          MODEL\n",
      "At line 3 ROWS\n",
      "At line 18 COLUMNS\n",
      "At line 66 RHS\n",
      "At line 80 BOUNDS\n",
      "At line 88 ENDATA\n",
      "Problem MODEL has 13 rows, 7 columns and 26 elements\n",
      "Coin0008I MODEL read with 0 errors\n",
      "Option for timeMode changed from cpu to elapsed\n",
      "Continuous objective value is 3.5 - 0.00 seconds\n",
      "Cgl0003I 0 fixed, 0 tightened bounds, 7 strengthened rows, 0 substitutions\n",
      "Cgl0003I 0 fixed, 0 tightened bounds, 5 strengthened rows, 0 substitutions\n",
      "Cgl0003I 0 fixed, 0 tightened bounds, 1 strengthened rows, 0 substitutions\n",
      "Cgl0004I processed model has 7 rows, 7 columns (7 integer (7 of which binary)) and 21 elements\n",
      "Cutoff increment increased from 1e-05 to 0.9999\n",
      "Cbc0038I Initial state - 5 integers unsatisfied sum - 2.5\n",
      "Cbc0038I Pass   1: suminf.    2.50000 (5) obj. 4.5 iterations 1\n",
      "Cbc0038I Solution found of 7\n",
      "Cbc0038I Rounding solution of 5 is better than previous of 7\n",
      "\n",
      "Cbc0038I Before mini branch and bound, 2 integers at bound fixed and 0 continuous\n",
      "Cbc0038I Mini branch and bound did not improve solution (0.01 seconds)\n",
      "Cbc0038I After 0.01 seconds - Feasibility pump exiting with objective of 5 - took 0.00 seconds\n",
      "Cbc0012I Integer solution of 5 found by feasibility pump after 0 iterations and 0 nodes (0.01 seconds)\n",
      "Cbc0001I Search completed - best objective 5, took 0 iterations and 0 nodes (0.01 seconds)\n",
      "Cbc0035I Maximum depth 0, 1 variables fixed on reduced cost\n",
      "Cuts at root node changed objective from 4.5 to 4.5\n",
      "Probing was tried 0 times and created 0 cuts of which 0 were active after adding rounds of cuts (0.000 seconds)\n",
      "Gomory was tried 0 times and created 0 cuts of which 0 were active after adding rounds of cuts (0.000 seconds)\n",
      "Knapsack was tried 0 times and created 0 cuts of which 0 were active after adding rounds of cuts (0.000 seconds)\n",
      "Clique was tried 0 times and created 0 cuts of which 0 were active after adding rounds of cuts (0.000 seconds)\n",
      "MixedIntegerRounding2 was tried 0 times and created 0 cuts of which 0 were active after adding rounds of cuts (0.000 seconds)\n",
      "FlowCover was tried 0 times and created 0 cuts of which 0 were active after adding rounds of cuts (0.000 seconds)\n",
      "TwoMirCuts was tried 0 times and created 0 cuts of which 0 were active after adding rounds of cuts (0.000 seconds)\n",
      "ZeroHalf was tried 0 times and created 0 cuts of which 0 were active after adding rounds of cuts (0.000 seconds)\n",
      "\n",
      "Result - Optimal solution found\n",
      "\n",
      "Objective value:                5.00000000\n",
      "Enumerated nodes:               0\n",
      "Total iterations:               0\n",
      "Time (CPU seconds):             0.01\n",
      "Time (Wallclock seconds):       0.01\n",
      "\n",
      "Option for printingOptions changed from normal to all\n",
      "Total time (CPU seconds):       0.02   (Wallclock seconds):       0.02\n",
      "\n"
     ]
    }
   ],
   "source": [
    "prob = pl.LpProblem(\"VertexCoverILP\", pl.LpMinimize)\n",
    "\n",
    "# Decision variables\n",
    "x = [pl.LpVariable(f\"x{i}\", lowBound=0, upBound=1, cat=pl.LpInteger) for i in range(7)]\n",
    "\n",
    "# Objective\n",
    "prob += pl.lpSum(x)\n",
    "\n",
    "# Constraints\n",
    "for u, v in ((u - 1, v - 1) for u, v in edges):\n",
    "    prob += x[u] + x[v] >= 1\n",
    "\n",
    "prob.solve()\n",
    "assert pl.LpStatus[prob.status] == \"Optimal\""
   ]
  },
  {
   "cell_type": "code",
   "execution_count": 4,
   "id": "324be933",
   "metadata": {},
   "outputs": [
    {
     "data": {
      "text/plain": [
       "[2, 3, 4, 6, 7]"
      ]
     },
     "execution_count": 4,
     "metadata": {},
     "output_type": "execute_result"
    }
   ],
   "source": [
    "vertex_cover = [i + 1 for i in range(7) if x[i].varValue > 0]  # pyright: ignore\n",
    "vertex_cover"
   ]
  },
  {
   "cell_type": "code",
   "execution_count": 5,
   "id": "784a9017",
   "metadata": {},
   "outputs": [
    {
     "data": {
      "text/plain": [
       "5"
      ]
     },
     "execution_count": 5,
     "metadata": {},
     "output_type": "execute_result"
    }
   ],
   "source": [
    "len(vertex_cover)"
   ]
  },
  {
   "cell_type": "markdown",
   "id": "2bf37a10",
   "metadata": {},
   "source": [
    "## Problem 3"
   ]
  },
  {
   "cell_type": "code",
   "execution_count": 6,
   "id": "0e1cf28e",
   "metadata": {},
   "outputs": [
    {
     "name": "stdout",
     "output_type": "stream",
     "text": [
      "Welcome to the CBC MILP Solver \n",
      "Version: 2.10.3 \n",
      "Build Date: Dec 15 2019 \n",
      "\n",
      "command line - /home/woitek/.local/share/virtualenvs/coursera_linear_programming-sQGDHXUS/lib/python3.12/site-packages/pulp/solverdir/cbc/linux/64/cbc /tmp/5df5e963c66e43fc9ef990f7b704e342-pulp.mps -timeMode elapsed -branch -printingOptions all -solution /tmp/5df5e963c66e43fc9ef990f7b704e342-pulp.sol (default strategy 1)\n",
      "At line 2 NAME          MODEL\n",
      "At line 3 ROWS\n",
      "At line 18 COLUMNS\n",
      "At line 52 RHS\n",
      "At line 66 BOUNDS\n",
      "At line 74 ENDATA\n",
      "Problem MODEL has 13 rows, 7 columns and 26 elements\n",
      "Coin0008I MODEL read with 0 errors\n",
      "Option for timeMode changed from cpu to elapsed\n",
      "Presolve 13 (0) rows, 7 (0) columns and 26 (0) elements\n",
      "Perturbing problem by 0.001% of 1 - largest nonzero change 8.5707874e-05 ( 0.0085707874%) - largest zero change 0\n",
      "0  Obj 0 Primal inf 12.999999 (13)\n",
      "7  Obj 3.5001098\n",
      "Optimal - objective value 3.5\n",
      "Optimal objective 3.5 - 7 iterations time 0.002\n",
      "Option for printingOptions changed from normal to all\n",
      "Total time (CPU seconds):       0.00   (Wallclock seconds):       0.00\n",
      "\n"
     ]
    }
   ],
   "source": [
    "prob = pl.LpProblem(\"VertexCoverLPRelaxation\", pl.LpMinimize)\n",
    "\n",
    "# Decision variables\n",
    "z = [pl.LpVariable(f\"z{i}\", lowBound=0, upBound=1) for i in range(7)]\n",
    "\n",
    "# Objective\n",
    "prob += pl.lpSum(z)\n",
    "\n",
    "# Constraints\n",
    "for u, v in ((u - 1, v - 1) for u, v in edges):\n",
    "    prob += z[u] + z[v] >= 1\n",
    "\n",
    "prob.solve()\n",
    "assert pl.LpStatus[prob.status] == \"Optimal\""
   ]
  },
  {
   "cell_type": "code",
   "execution_count": 7,
   "id": "806cd1e2",
   "metadata": {},
   "outputs": [
    {
     "data": {
      "text/plain": [
       "3.5"
      ]
     },
     "execution_count": 7,
     "metadata": {},
     "output_type": "execute_result"
    }
   ],
   "source": [
    "pl.value(prob.objective)"
   ]
  },
  {
   "cell_type": "markdown",
   "id": "af4efa83",
   "metadata": {},
   "source": [
    "## Problem 4"
   ]
  },
  {
   "cell_type": "code",
   "execution_count": 8,
   "id": "6ad8409f",
   "metadata": {},
   "outputs": [
    {
     "data": {
      "text/plain": [
       "[1, 2, 3, 4, 5, 6, 7]"
      ]
     },
     "execution_count": 8,
     "metadata": {},
     "output_type": "execute_result"
    }
   ],
   "source": [
    "vertex_cover = [i + 1 for i in range(7) if z[i].varValue >= 0.5]  # pyright: ignore\n",
    "vertex_cover"
   ]
  },
  {
   "cell_type": "code",
   "execution_count": 9,
   "id": "6bcfd1cb",
   "metadata": {},
   "outputs": [
    {
     "data": {
      "text/plain": [
       "7"
      ]
     },
     "execution_count": 9,
     "metadata": {},
     "output_type": "execute_result"
    }
   ],
   "source": [
    "len(vertex_cover)"
   ]
  },
  {
   "cell_type": "markdown",
   "id": "d320ce0d",
   "metadata": {},
   "source": [
    "**All the vertices of the graph are part of this cover.**"
   ]
  }
 ],
 "metadata": {
  "jupytext": {
   "formats": "ipynb,py:percent"
  },
  "kernelspec": {
   "display_name": "Python 3 (ipykernel)",
   "language": "python",
   "name": "python3"
  },
  "language_info": {
   "codemirror_mode": {
    "name": "ipython",
    "version": 3
   },
   "file_extension": ".py",
   "mimetype": "text/x-python",
   "name": "python",
   "nbconvert_exporter": "python",
   "pygments_lexer": "ipython3",
   "version": "3.12.3"
  }
 },
 "nbformat": 4,
 "nbformat_minor": 5
}
